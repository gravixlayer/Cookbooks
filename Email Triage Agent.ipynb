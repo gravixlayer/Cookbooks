{
  "cells": [
    {
      "cell_type": "markdown",
      "id": "intro_001",
      "metadata": {},
      "source": [
        "# Gravix Layer Cookbook: Agentic Email Triage Workflow\n",
        "This notebook provides a step-by-step guide to building a complete **Agentic Email Triage** workflow using the **Gravix Layer** API, IMAPClient, and intelligent email processing. You will learn how to create an application that automatically fetches, analyzes, prioritizes, and summarizes emails using agentic orchestration and LLM-powered content analysis.\n",
        "\n",
        "### What is Agentic Email Triage?\n",
        "Agentic Email Triage uses a modular, agent-based approach to automate email management. Instead of manually sorting through emails, the workflow orchestrates multiple specialized agents to fetch emails, extract meaningful content, analyze importance, and generate actionable summaries with priority classifications.\n",
        "\n",
        "### In this notebook, you will learn to:\n",
        "1. **Set up** the environment and configure Gmail IMAP access with SSL security.\n",
        "2. **Fetch** and process emails using IMAPClient with robust MIME parsing.\n",
        "3. **Extract** clean text content from complex email formats (HTML, multipart, etc.).\n",
        "4. **Analyze** email content using Gravix Layer LLM for intelligent summarization.\n",
        "5. **Prioritize** emails automatically based on content, urgency, and action requirements.\n",
        "6. **Generate** structured reports with DataFrames and Markdown digests.\n",
        "\n",
        "### Key Features:\n",
        "- **Robust Email Parsing**: Handles complex MIME structures, HTML cleanup, and character encoding\n",
        "- **Intelligent Content Analysis**: LLM-powered summarization that understands email context\n",
        "- **Priority Classification**: Automatic categorization into High/Medium/Low priority levels\n",
        "- **Structured Output**: Both tabular (DataFrame) and readable (Markdown) formats\n",
        "- **Error Handling**: Graceful fallbacks for parsing failures and connection issues\n",
        "\n",
        "### Use Cases:\n",
        "- Personal email management and daily digest generation\n",
        "- Business email monitoring and priority filtering\n",
        "- Customer service email triage and routing\n",
        "- Newsletter and notification summarization\n",
        "- Email analytics and trend analysis\n",
        "\n",
        "### Disclaimer\n",
        "**This notebook is for educational and automation purposes only. Always review automated email summaries before taking action. The system processes email content using AI models that may have limitations in understanding context or sensitive information. Ensure compliance with your organization's email policies and privacy requirements when implementing automated email processing.**"
      ]
    },
    {
      "cell_type": "code",
      "execution_count": 51,
      "id": "2cae6ac1",
      "metadata": {},
      "outputs": [
        {
          "name": "stdout",
          "output_type": "stream",
          "text": [
            "Requirement already satisfied: imapclient in ./.venv/lib/python3.13/site-packages (3.0.1)\n",
            "Requirement already satisfied: certifi in ./.venv/lib/python3.13/site-packages (2025.8.3)\n",
            "Requirement already satisfied: rich in ./.venv/lib/python3.13/site-packages (14.0.0)\n",
            "Requirement already satisfied: pandas in ./.venv/lib/python3.13/site-packages (2.2.3)\n",
            "Requirement already satisfied: gravixlayer in ./.venv/lib/python3.13/site-packages (0.0.11)\n",
            "Requirement already satisfied: markdown-it-py>=2.2.0 in ./.venv/lib/python3.13/site-packages (from rich) (3.0.0)\n",
            "Requirement already satisfied: pygments<3.0.0,>=2.13.0 in ./.venv/lib/python3.13/site-packages (from rich) (2.19.2)\n",
            "Requirement already satisfied: numpy>=1.26.0 in ./.venv/lib/python3.13/site-packages (from pandas) (2.3.1)\n",
            "Requirement already satisfied: python-dateutil>=2.8.2 in ./.venv/lib/python3.13/site-packages (from pandas) (2.9.0.post0)\n",
            "Requirement already satisfied: pytz>=2020.1 in ./.venv/lib/python3.13/site-packages (from pandas) (2025.2)\n",
            "Requirement already satisfied: tzdata>=2022.7 in ./.venv/lib/python3.13/site-packages (from pandas) (2025.2)\n",
            "Requirement already satisfied: requests>=2.25.0 in ./.venv/lib/python3.13/site-packages (from gravixlayer) (2.32.4)\n",
            "Requirement already satisfied: python-dotenv>=0.19.0 in ./.venv/lib/python3.13/site-packages (from gravixlayer) (1.1.1)\n",
            "Requirement already satisfied: mdurl~=0.1 in ./.venv/lib/python3.13/site-packages (from markdown-it-py>=2.2.0->rich) (0.1.2)\n",
            "Requirement already satisfied: six>=1.5 in ./.venv/lib/python3.13/site-packages (from python-dateutil>=2.8.2->pandas) (1.17.0)\n",
            "Requirement already satisfied: charset_normalizer<4,>=2 in ./.venv/lib/python3.13/site-packages (from requests>=2.25.0->gravixlayer) (3.4.2)\n",
            "Requirement already satisfied: idna<4,>=2.5 in ./.venv/lib/python3.13/site-packages (from requests>=2.25.0->gravixlayer) (3.10)\n",
            "Requirement already satisfied: urllib3<3,>=1.21.1 in ./.venv/lib/python3.13/site-packages (from requests>=2.25.0->gravixlayer) (2.5.0)\n",
            "\n",
            "\u001b[1m[\u001b[0m\u001b[34;49mnotice\u001b[0m\u001b[1;39;49m]\u001b[0m\u001b[39;49m A new release of pip is available: \u001b[0m\u001b[31;49m25.1.1\u001b[0m\u001b[39;49m -> \u001b[0m\u001b[32;49m25.2\u001b[0m\n",
            "\u001b[1m[\u001b[0m\u001b[34;49mnotice\u001b[0m\u001b[1;39;49m]\u001b[0m\u001b[39;49m To update, run: \u001b[0m\u001b[32;49mpip install --upgrade pip\u001b[0m\n"
          ]
        }
      ],
      "source": [
        "# Install required packages\n",
        "!pip install imapclient certifi rich pandas gravixlayer"
      ]
    },
    {
      "cell_type": "markdown",
      "id": "770f18c9",
      "metadata": {},
      "source": [
        "## 📧 Setup and Configuration\n",
        "\n",
        "First, let's import the required libraries and set up our email credentials and API connections.\n",
        "\n",
        "### Required Dependencies:\n",
        "- **IMAPClient**: Secure Gmail IMAP connection with SSL\n",
        "- **GravixLayer**: LLM client for intelligent email analysis\n",
        "- **Rich**: Beautiful console output and Markdown rendering\n",
        "- **Pandas**: Structured data handling for email reports\n",
        "- **Email Libraries**: Robust MIME parsing and content extraction\n",
        "\n",
        "### Security Notes:\n",
        "- Use Gmail App Passwords (not your main password)\n",
        "- Store credentials in environment variables for production\n",
        "- SSL/TLS encryption for all email connections"
      ]
    },
    {
      "cell_type": "code",
      "execution_count": null,
      "id": "020cafee",
      "metadata": {},
      "outputs": [
        {
          "data": {
            "text/html": [
              "<pre style=\"white-space:pre;overflow-x:auto;line-height:normal;font-family:Menlo,'DejaVu Sans Mono',consolas,'Courier New',monospace\"><span style=\"color: #008000; text-decoration-color: #008000; font-weight: bold\">✅ GravixLayer client initialized successfully</span>\n",
              "</pre>\n"
            ],
            "text/plain": [
              "\u001b[1;32m✅ GravixLayer client initialized successfully\u001b[0m\n"
            ]
          },
          "metadata": {},
          "output_type": "display_data"
        }
      ],
      "source": [
        "import os\n",
        "import re\n",
        "import json\n",
        "import ssl\n",
        "import certifi\n",
        "from datetime import datetime, timedelta\n",
        "from imapclient import IMAPClient\n",
        "from rich.console import Console\n",
        "from rich.markdown import Markdown\n",
        "import pandas as pd\n",
        "from gravixlayer import GravixLayer\n",
        "from email import policy\n",
        "from email import message_from_bytes\n",
        "from email.header import decode_header, make_header\n",
        "\n",
        "console = Console()\n",
        "\n",
        "\n",
        "EMAIL = \"enter your email id here\" \n",
        "APP_PASSWORD = \"enter your app password here\"\n",
        "\n",
        "if not EMAIL or not APP_PASSWORD:\n",
        "    console.print(\"[bold yellow]⚠️  Warning:[/bold yellow] Set GMAIL_ADDRESS and GMAIL_APP_PASSWORD before running fetch.\")\n",
        "\n",
        "# Initialize GravixLayer client\n",
        "try:\n",
        "    gravix_client = GravixLayer() #ENSURE TO GET YOUR API KEY FROM https://platform.gravixlayer.com and set it in your environment variable GRAVIXLAYER_API_KEY\n",
        "    console.print(\"[bold green]✅ GravixLayer client initialized successfully[/bold green]\")\n",
        "except Exception as e:\n",
        "    console.print(f\"[bold red]❌ GravixLayer initialization failed:[/bold red] {e}\")\n",
        "    console.print(\"[bold yellow]💡 Tip:[/bold yellow] Make sure GRAVIXLAYER_API_KEY is set in your environment\")"
      ]
    },
    {
      "cell_type": "markdown",
      "id": "helpers_hdr",
      "metadata": {},
      "source": [
        "## 🛠️ Email Processing Utilities\n",
        "\n",
        "These utility functions handle the complex task of extracting clean, readable text from various email formats. Email content can be challenging to parse due to:\n",
        "- **MIME multipart structures** (text, HTML, attachments)\n",
        "- **Character encoding issues** (UTF-8, ISO-8859-1, etc.)\n",
        "- **HTML content** with embedded styles and scripts\n",
        "- **Email headers** with encoded subjects\n",
        "- **Boilerplate content** (unsubscribe links, signatures)\n",
        "\n",
        "### Key Functions:\n",
        "1. **`extract_plain_text_from_email()`**: Robust MIME parsing with HTML fallback\n",
        "2. **`decode_subject_value()`**: Handles encoded email subjects \n",
        "3. **`build_digest_markdown()`**: Generates readable priority-grouped reports\n",
        "4. **JSON extraction helpers**: Parse LLM responses reliably"
      ]
    },
    {
      "cell_type": "code",
      "execution_count": 53,
      "id": "helpers_001",
      "metadata": {},
      "outputs": [],
      "source": [
        "def _ensure_text(val):\n",
        "    \"\"\"Convert various input types to clean text strings.\"\"\"\n",
        "    if isinstance(val, list):\n",
        "        return \" \".join(str(v) for v in val)\n",
        "    if val is None:\n",
        "        return \"\"\n",
        "    return str(val)\n",
        "\n",
        "def decode_subject_value(subject_raw: str) -> str:\n",
        "    \"\"\"\n",
        "    Decode email subjects that may contain encoded characters.\n",
        "    \n",
        "    Examples:\n",
        "    - \"=?UTF-8?B?SGVsbG8gV29ybGQ=?=\" → \"Hello World\"\n",
        "    - \"=?ISO-8859-1?Q?Caf=E9?=\" → \"Café\"\n",
        "    \"\"\"\n",
        "    try:\n",
        "        return str(make_header(decode_header(subject_raw or \"\")))\n",
        "    except Exception:\n",
        "        return subject_raw or \"\"\n",
        "\n",
        "def extract_plain_text_from_email(raw_message_bytes: bytes) -> str:\n",
        "    \"\"\"\n",
        "    Robustly extract readable text from a full RFC822 message.\n",
        "    \n",
        "    Processing Strategy:\n",
        "    1. Parse MIME multipart structure\n",
        "    2. Prefer text/plain parts (skip attachments)\n",
        "    3. Fallback to text/html with tag stripping\n",
        "    4. Clean boilerplate content (unsubscribe links, etc.)\n",
        "    5. Normalize whitespace and formatting\n",
        "    \n",
        "    Args:\n",
        "        raw_message_bytes: Complete RFC822 email message\n",
        "        \n",
        "    Returns:\n",
        "        Clean, readable text content\n",
        "    \"\"\"\n",
        "    if not raw_message_bytes:\n",
        "        return \"No content found.\"\n",
        "\n",
        "    msg = message_from_bytes(raw_message_bytes, policy=policy.default)\n",
        "\n",
        "    def decode_part(p):\n",
        "        \"\"\"Safely decode email part content with charset handling.\"\"\"\n",
        "        try:\n",
        "            return p.get_content()\n",
        "        except Exception:\n",
        "            payload = p.get_payload(decode=True) or b\"\"\n",
        "            charset = p.get_content_charset() or \"utf-8\"\n",
        "            return payload.decode(charset, errors=\"replace\")\n",
        "\n",
        "    text_parts = []\n",
        "    html_fallback = None\n",
        "\n",
        "    # Handle multipart messages (most common)\n",
        "    if msg.is_multipart():\n",
        "        for part in msg.walk():\n",
        "            # Skip attachments\n",
        "            if part.get_content_disposition() == \"attachment\":\n",
        "                continue\n",
        "            ctype = part.get_content_type()\n",
        "            if ctype == \"text/plain\":\n",
        "                text_parts.append(decode_part(part))\n",
        "            elif ctype == \"text/html\" and html_fallback is None:\n",
        "                html_fallback = decode_part(part)\n",
        "    else:\n",
        "        # Handle single-part messages\n",
        "        ctype = msg.get_content_type()\n",
        "        if ctype == \"text/plain\":\n",
        "            text_parts.append(decode_part(msg))\n",
        "        elif ctype == \"text/html\":\n",
        "            html_fallback = decode_part(msg)\n",
        "\n",
        "    text = \"\\n\\n\".join([t for t in text_parts if t]).strip()\n",
        "\n",
        "    # Fallback to HTML conversion if no plain text\n",
        "    if not text and html_fallback:\n",
        "        html = html_fallback\n",
        "        # Remove script and style content\n",
        "        html = re.sub(r\"(?is)<(script|style).*?>.*?</\\1>\", \" \", html)\n",
        "        # Convert HTML breaks and paragraphs\n",
        "        html = re.sub(r\"(?is)<br\\s*/?>\", \"\\n\", html)\n",
        "        html = re.sub(r\"(?is)</p\\s*>\", \"\\n\\n\", html)\n",
        "        # Strip all remaining HTML tags\n",
        "        html = re.sub(r\"(?is)<.*?>\", \" \", html)\n",
        "        # Decode HTML entities\n",
        "        html = html.replace(\"&nbsp;\", \" \").replace(\"&amp;\", \"&\").replace(\"&lt;\", \"<\").replace(\"&gt;\", \">\")\n",
        "        text = html\n",
        "\n",
        "    # Clean boilerplate and formatting\n",
        "    lines = []\n",
        "    for line in (text or \"\").splitlines():\n",
        "        s = line.strip()\n",
        "        if not s:\n",
        "            lines.append(\"\")\n",
        "            continue\n",
        "        # Remove common email boilerplate\n",
        "        if re.search(r\"unsubscribe|view in browser|do not reply|privacy policy\", s, re.I):\n",
        "            continue\n",
        "        # Remove divider lines\n",
        "        if re.match(r\"^-{2,}$\", s):\n",
        "            continue\n",
        "        lines.append(s)\n",
        "\n",
        "    cleaned = \"\\n\".join(lines)\n",
        "    # Normalize spacing\n",
        "    cleaned = re.sub(r\"[ \\t]+\", \" \", cleaned)\n",
        "    cleaned = re.sub(r\"\\n{3,}\", \"\\n\\n\", cleaned)\n",
        "    cleaned = cleaned.strip()\n",
        "    \n",
        "    return cleaned or \"No content found.\"\n",
        "\n",
        "def build_digest_markdown(date_label, results):\n",
        "    \"\"\"\n",
        "    Generate a structured Markdown digest grouped by priority.\n",
        "    \n",
        "    Args:\n",
        "        date_label: Date string for the digest header\n",
        "        results: List of processed email summaries\n",
        "        \n",
        "    Returns:\n",
        "        Formatted Markdown string with priority sections\n",
        "    \"\"\"\n",
        "    md = f\"# 📧 Email Digest for {date_label}\\n\\n\"\n",
        "    \n",
        "    # Group by priority level\n",
        "    grouped = {\"High\": [], \"Medium\": [], \"Low\": []}\n",
        "    for r in results:\n",
        "        grouped.setdefault(r.get(\"priority\", \"Low\"), []).append(r)\n",
        "    \n",
        "    # Generate sections by priority\n",
        "    priority_icons = {\"High\": \"🔴\", \"Medium\": \"🟡\", \"Low\": \"🟢\"}\n",
        "    for level in [\"High\", \"Medium\", \"Low\"]:\n",
        "        if grouped[level]:\n",
        "            md += f\"## {priority_icons[level]} {level} Priority ({len(grouped[level])} emails)\\n\\n\"\n",
        "            for r in grouped[level]:\n",
        "                line = f\"### 📨 From: {r.get('from','')}  |  Subject: {r.get('subject','')}\\n\"\n",
        "                summary = _ensure_text(r.get(\"summary\"))\n",
        "                actions = _ensure_text(r.get(\"actions\"))\n",
        "                if summary:\n",
        "                    line += f\"**Summary:** {summary.strip()}\\n\\n\"\n",
        "                if actions:\n",
        "                    line += f\"**Action Items:** {actions.strip()}\\n\\n\"\n",
        "                if r.get(\"duplicate_of\"):\n",
        "                    line += f\"*⚠️ Possible duplicate of: {r['duplicate_of']}*\\n\\n\"\n",
        "                md += line + \"---\\n\\n\"\n",
        "    \n",
        "    return md\n",
        "\n",
        "def _strip_code_fences(text: str) -> str:\n",
        "    \"\"\"Remove markdown code fence markers from text.\"\"\"\n",
        "    t = text.strip()\n",
        "    t = re.sub(r\"^\\s*```.*?\\n\", \"\", t)\n",
        "    t = re.sub(r\"\\s*```\\s*$\", \"\", t)\n",
        "    return t\n",
        "\n",
        "def _extract_first_json_object(text: str) -> str:\n",
        "    \"\"\"\n",
        "    Robustly extract the first complete JSON object from text.\n",
        "    \n",
        "    Handles LLM responses that may include explanatory text\n",
        "    before or after the JSON object.\n",
        "    \"\"\"\n",
        "    s = _strip_code_fences(text)\n",
        "    start = None\n",
        "    depth = 0\n",
        "    for i, ch in enumerate(s):\n",
        "        if ch == '{':\n",
        "            if depth == 0:\n",
        "                start = i\n",
        "            depth += 1\n",
        "        elif ch == '}' and depth > 0:\n",
        "            depth -= 1\n",
        "            if depth == 0 and start is not None:\n",
        "                return s[start:i+1]\n",
        "    raise ValueError(\"No JSON object found\")"
      ]
    },
    {
      "cell_type": "markdown",
      "id": "agents_hdr",
      "metadata": {},
      "source": [
        "## Agentic Email Processing Architecture\n",
        "\n",
        "The email triage system uses a **modular agent architecture** where each agent has a specific responsibility:\n",
        "\n",
        "### Agent Workflow:\n",
        "```\n",
        "EmailFetcherAgent → SummarizerAgent → ReporterAgent\n",
        "     │                       │                    │\n",
        "     └─ Secure IMAP          └─ LLM Analysis      └─ Structured Output\n",
        "        Connection              & Prioritization     (DataFrame + Markdown)\n",
        "```\n",
        "\n",
        "### Agent Responsibilities:\n",
        "\n",
        "#### 1. **EmailFetcherAgent**\n",
        "- **Purpose**: Secure email retrieval and initial processing\n",
        "- **Features**: SSL/TLS connections, MIME parsing, date filtering\n",
        "- **Output**: Structured email objects with clean text content\n",
        "\n",
        "#### 2. **SummarizerAgent**  \n",
        "- **Purpose**: Intelligent content analysis and prioritization\n",
        "- **Features**: LLM-powered summarization, priority classification, action extraction\n",
        "- **Model**: Uses Gravix Layer with Llama 3.1 8B for accurate understanding\n",
        "\n",
        "#### 3. **ReporterAgent**\n",
        "- **Purpose**: Generate structured reports and visualizations\n",
        "- **Features**: Priority grouping, DataFrame creation, Markdown formatting\n",
        "- **Output**: Both machine-readable (CSV/DataFrame) and human-readable (Markdown) formats\n",
        "\n",
        "### Configuration Options:\n",
        "- **Date Range**: Configurable lookback period for email fetching\n",
        "- **Email Limits**: Batch processing with configurable limits\n",
        "- **Priority Levels**: High/Medium/Low with customizable criteria\n",
        "- **Output Formats**: Multiple export options for different use cases"
      ]
    },
    {
      "cell_type": "code",
      "execution_count": null,
      "id": "agents_001",
      "metadata": {},
      "outputs": [],
      "source": [
        "class EmailFetcherAgent:\n",
        "    \"\"\"\n",
        "    Secure Email Fetching Agent\n",
        "    \n",
        "    Handles Gmail IMAP connections with SSL security and robust error handling.\n",
        "    Fetches emails from specified date ranges and processes MIME content.\n",
        "    \"\"\"\n",
        "    \n",
        "    def __init__(self, email_address: str, app_password: str):\n",
        "        \"\"\"\n",
        "        Initialize the email fetcher with credentials.\n",
        "        \n",
        "        Args:\n",
        "            email_address: Gmail address for IMAP access\n",
        "            app_password: Gmail App Password (not regular password)\n",
        "        \"\"\"\n",
        "        self.email = email_address\n",
        "        self.app_password = app_password\n",
        "\n",
        "    def fetch_unread_emails(self, days_back: int = 1, limit: int = 10) -> list:\n",
        "        \"\"\"\n",
        "        Fetch emails from Gmail using IMAP with SSL security.\n",
        "        \n",
        "        Args:\n",
        "            days_back: Number of days to look back for emails\n",
        "            limit: Maximum number of emails to fetch\n",
        "            \n",
        "        Returns:\n",
        "            List of processed email dictionaries with subject, from, and body\n",
        "        \"\"\"\n",
        "        target_date = (datetime.now() - timedelta(days=days_back)).strftime('%d-%b-%Y')\n",
        "        \n",
        "        # Create secure SSL context using certifi certificates\n",
        "        context = ssl.create_default_context(cafile=certifi.where())\n",
        "        \n",
        "        try:\n",
        "            with IMAPClient(\"imap.gmail.com\", ssl=True, ssl_context=context) as client:\n",
        "                # Authenticate with Gmail\n",
        "                client.login(self.email, self.app_password)\n",
        "                client.select_folder(\"INBOX\")\n",
        "                \n",
        "                # Search for emails from target date\n",
        "                messages = client.search([\"ON\", target_date])[:limit]\n",
        "                \n",
        "                if not messages:\n",
        "                    console.print(f\"[yellow]No emails found for {target_date}[/yellow]\")\n",
        "                    return []\n",
        "                \n",
        "                # Fetch email content and metadata\n",
        "                response = client.fetch(messages, [\"ENVELOPE\", \"RFC822\"])\n",
        "                emails = []\n",
        "                \n",
        "                for msgid, data in response.items():\n",
        "                    try:\n",
        "                        # Extract envelope data (headers)\n",
        "                        envelope = data[b\"ENVELOPE\"]\n",
        "                        subject_raw = envelope.subject.decode(errors=\"ignore\") if envelope.subject else \"(No Subject)\"\n",
        "                        subject = decode_subject_value(subject_raw)\n",
        "                        \n",
        "                        # Extract sender information\n",
        "                        if envelope.from_ and len(envelope.from_) > 0:\n",
        "                            from_addr = envelope.from_[0]\n",
        "                            from_ = f\"{from_addr.mailbox.decode()}@{from_addr.host.decode()}\"\n",
        "                        else:\n",
        "                            from_ = \"unknown@unknown.com\"\n",
        "                        \n",
        "                        # Process email body\n",
        "                        raw_bytes = data[b\"RFC822\"]\n",
        "                        clean_body = extract_plain_text_from_email(raw_bytes)\n",
        "                        \n",
        "                        emails.append({\n",
        "                            \"subject\": subject,\n",
        "                            \"from\": from_,\n",
        "                            \"body\": clean_body,\n",
        "                            \"message_id\": msgid\n",
        "                        })\n",
        "                        \n",
        "                    except Exception as e:\n",
        "                        console.print(f\"[red]Error processing email {msgid}: {e}[/red]\")\n",
        "                        continue\n",
        "                \n",
        "                console.print(f\"[green]✅ Fetched {len(emails)} emails from {target_date}[/green]\")\n",
        "                return emails\n",
        "                \n",
        "        except Exception as e:\n",
        "            console.print(f\"[bold red]❌ IMAP connection failed:[/bold red] {e}\")\n",
        "            return []\n",
        "\n",
        "\n",
        "class SummarizerAgent:\n",
        "    \"\"\"\n",
        "    Intelligent Email Summarization Agent\n",
        "    \n",
        "    Uses Gravix Layer LLM to analyze email content and generate:\n",
        "    - Meaningful summaries based on actual content\n",
        "    - Priority classifications (High/Medium/Low)\n",
        "    - Action items and next steps\n",
        "    \"\"\"\n",
        "    \n",
        "    def __init__(self, llm_client):\n",
        "        \"\"\"\n",
        "        Initialize with LLM client for content analysis.\n",
        "        \n",
        "        Args:\n",
        "            llm_client: GravixLayer client instance\n",
        "        \"\"\"\n",
        "        self.client = llm_client\n",
        "\n",
        "    def _normalize_record(self, rec: dict, src: dict) -> dict:\n",
        "        \"\"\"\n",
        "        Normalize and validate LLM response data.\n",
        "        \n",
        "        Args:\n",
        "            rec: Raw LLM response dictionary\n",
        "            src: Original email data for fallback\n",
        "            \n",
        "        Returns:\n",
        "            Clean, validated email record\n",
        "        \"\"\"\n",
        "        def _t(x):\n",
        "            return \"\" if x is None else (x if isinstance(x, str) else str(x))\n",
        "        \n",
        "        # Handle encoded subjects\n",
        "        subj = _t(rec.get(\"subject\", src[\"subject\"]))\n",
        "        if re.search(r\"=\\?.+\\?=\", subj):\n",
        "            subj = decode_subject_value(subj)\n",
        "        \n",
        "        # Build normalized record\n",
        "        out = {\n",
        "            \"from\": _t(rec.get(\"from\", src[\"from\"])),\n",
        "            \"subject\": subj,\n",
        "            \"priority\": _t(rec.get(\"priority\", \"Low\")).title(),\n",
        "            \"summary\": _t(rec.get(\"summary\", \"\")),\n",
        "            \"actions\": _t(rec.get(\"actions\", \"\"))\n",
        "        }\n",
        "        \n",
        "        # Validate priority level\n",
        "        if out[\"priority\"] not in {\"High\", \"Medium\", \"Low\"}:\n",
        "            out[\"priority\"] = \"Low\"\n",
        "        \n",
        "        # Handle duplicate detection\n",
        "        dup = rec.get(\"duplicate_of\")\n",
        "        if dup is not None:\n",
        "            out[\"duplicate_of\"] = _t(dup)\n",
        "        \n",
        "        return out\n",
        "\n",
        "    def summarize_and_prioritize(self, emails: list) -> list:\n",
        "        \"\"\"\n",
        "        Analyze emails using LLM for intelligent summarization and prioritization.\n",
        "        \n",
        "        Args:\n",
        "            emails: List of email dictionaries to process\n",
        "            \n",
        "        Returns:\n",
        "            List of processed emails with summaries and priorities\n",
        "        \"\"\"\n",
        "        if not emails:\n",
        "            console.print(\"[yellow]No emails to summarize[/yellow]\")\n",
        "            return []\n",
        "        \n",
        "        results = []\n",
        "        console.print(f\"[blue] Analyzing {len(emails)} emails with LLM...[/blue]\")\n",
        "        \n",
        "        for i, e in enumerate(emails, 1):\n",
        "            console.print(f\"[dim]Processing email {i}/{len(emails)}...[/dim]\")\n",
        "            \n",
        "            # Construct detailed analysis prompt\n",
        "            prompt = f\"\"\"You are an expert email assistant. Analyze the following email and provide a JSON response.\n",
        "\n",
        "IMPORTANT: Read the actual email content carefully and create a meaningful summary based on what the email is actually about.\n",
        "\n",
        "Email to analyze:\n",
        "From: {e['from']}\n",
        "Subject: {e['subject']}\n",
        "Body: {e['body']}\n",
        "\n",
        "Return ONLY this JSON format (no markdown, no explanation):\n",
        "{{\n",
        "  \"from\": \"{e['from']}\",\n",
        "  \"subject\": \"{e['subject']}\",\n",
        "  \"priority\": \"High|Medium|Low\",\n",
        "  \"summary\": \"2-3 sentences describing what this email is actually about based on the content above\",\n",
        "  \"actions\": \"specific actions mentioned or implied in the email, if any\"\n",
        "}}\n",
        "\n",
        "Priority Guidelines:\n",
        "- **High**: Urgent, time-sensitive, requires immediate action, deadlines, emergencies\n",
        "- **Medium**: Important but not urgent, informational with some action needed, meetings, updates\n",
        "- **Low**: FYI, newsletters, notifications that don't require action, social media, marketing\n",
        "\n",
        "Focus on the actual content and purpose of the email, not generic descriptions.\"\"\"\n",
        "\n",
        "            try:\n",
        "                # Call LLM for analysis\n",
        "                resp = self.client.chat.completions.create(\n",
        "                    model=\"meta-llama/llama-3.1-8b-instruct\",\n",
        "                    messages=[{\"role\": \"user\", \"content\": prompt}],\n",
        "                    temperature=0.1,  # Low temperature for consistent analysis\n",
        "                    max_tokens=300\n",
        "                )\n",
        "                \n",
        "                raw = resp.choices[0].message.content or \"\"\n",
        "                \n",
        "                # Parse JSON response\n",
        "                try:\n",
        "                    js = _extract_first_json_object(raw)\n",
        "                    parsed = json.loads(js)\n",
        "                except Exception:\n",
        "                    # Fallback JSON parsing\n",
        "                    parsed = json.loads(_strip_code_fences(raw))\n",
        "                \n",
        "                # Normalize and validate response\n",
        "                normalized = self._normalize_record(parsed, e)\n",
        "                results.append(normalized)\n",
        "                \n",
        "            except Exception as parse_error:\n",
        "                console.print(f\"[red]⚠️  LLM parsing failed for email {i}: {parse_error}[/red]\")\n",
        "                # Fallback to basic processing\n",
        "                results.append({\n",
        "                    \"from\": e[\"from\"],\n",
        "                    \"subject\": e[\"subject\"],\n",
        "                    \"priority\": \"Low\",\n",
        "                    \"summary\": (e[\"body\"] or \"\")[:300] + \"...\" if len(e[\"body\"] or \"\") > 300 else (e[\"body\"] or \"\"),\n",
        "                    \"actions\": \"\"\n",
        "                })\n",
        "        \n",
        "        console.print(f\"[green]✅ Completed analysis of {len(results)} emails[/green]\")\n",
        "        return results\n",
        "\n",
        "\n",
        "class ReporterAgent:\n",
        "    \"\"\"\n",
        "    📊 Email Report Generation Agent\n",
        "    \n",
        "    Creates structured reports in multiple formats:\n",
        "    - DataFrame for programmatic access\n",
        "    - Markdown for human-readable digests\n",
        "    - Priority-based organization\n",
        "    \"\"\"\n",
        "    \n",
        "    def __init__(self, date_label: str):\n",
        "        \"\"\"\n",
        "        Initialize reporter with date context.\n",
        "        \n",
        "        Args:\n",
        "            date_label: Date string for report headers\n",
        "        \"\"\"\n",
        "        self.date_label = date_label\n",
        "\n",
        "    def run(self, summaries: list) -> tuple:\n",
        "        \"\"\"\n",
        "        Generate comprehensive email reports.\n",
        "        \n",
        "        Args:\n",
        "            summaries: List of analyzed email summaries\n",
        "            \n",
        "        Returns:\n",
        "            Tuple of (DataFrame, Markdown string)\n",
        "        \"\"\"\n",
        "        if not summaries:\n",
        "            empty_df = pd.DataFrame(columns=[\"from\", \"subject\", \"summary\", \"actions\", \"priority\"])\n",
        "            empty_md = f\"# 📧 Email Digest for {self.date_label}\\n\\n*No emails to display.*\"\n",
        "            return empty_df, empty_md\n",
        "        \n",
        "        # Prepare structured data\n",
        "        out = []\n",
        "        for r in summaries:\n",
        "            out.append({\n",
        "                \"from\": r.get(\"from\", \"\"),\n",
        "                \"subject\": r.get(\"subject\", \"\"),\n",
        "                \"summary\": _ensure_text(r.get(\"summary\")),\n",
        "                \"actions\": _ensure_text(r.get(\"actions\")),\n",
        "                \"priority\": r.get(\"priority\", \"Low\"),\n",
        "                \"duplicate_of\": r.get(\"duplicate_of\", None)\n",
        "            })\n",
        "        \n",
        "        # Sort by priority (High → Medium → Low), then by sender\n",
        "        priority_order = {\"High\": 0, \"Medium\": 1, \"Low\": 2}\n",
        "        out.sort(key=lambda r: (\n",
        "            priority_order.get(r[\"priority\"], 3),\n",
        "            r[\"from\"].lower(),\n",
        "            r[\"subject\"].lower()\n",
        "        ))\n",
        "        \n",
        "        # Create DataFrame\n",
        "        df = pd.DataFrame(out)\n",
        "        \n",
        "        # Generate Markdown digest\n",
        "        md = build_digest_markdown(self.date_label, out)\n",
        "        \n",
        "        # Add summary statistics\n",
        "        stats = df['priority'].value_counts().to_dict()\n",
        "        console.print(f\"[blue]📈 Email Summary: {stats.get('High', 0)} High, {stats.get('Medium', 0)} Medium, {stats.get('Low', 0)} Low priority[/blue]\")\n",
        "        \n",
        "        return df, md"
      ]
    },
    {
      "cell_type": "markdown",
      "id": "run_hdr",
      "metadata": {},
      "source": [
        "## Complete Email Triage Workflow\n",
        "\n",
        "Now let's run the complete agentic email triage workflow. This will:\n",
        "\n",
        "1. **Authenticate** with Gmail using secure IMAP/SSL\n",
        "2. **Fetch** emails from the specified date range  \n",
        "3. **Analyze** content using Gravix Layer LLM\n",
        "4. **Generate** structured reports and digestsand \n",
        "\n",
        "\n",
        "### Expected Output:\n",
        "- **Rich Console Display**: Color-coded priority digest with emojis\n",
        "- **DataFrame Table**: Structured data for further analysis\n",
        "- **Markdown Report**: Human-readable priority-grouped summary"
      ]
    },
    {
      "cell_type": "code",
      "execution_count": null,
      "id": "run_001",
      "metadata": {},
      "outputs": [
        {
          "data": {
            "text/html": [
              "<pre style=\"white-space:pre;overflow-x:auto;line-height:normal;font-family:Menlo,'DejaVu Sans Mono',consolas,'Courier New',monospace\"><span style=\"color: #00ff00; text-decoration-color: #00ff00\">──────────────────────────────────── </span><span style=\"color: #000080; text-decoration-color: #000080; font-weight: bold\">🤖 Starting Agentic Email Triage Workflow</span><span style=\"color: #00ff00; text-decoration-color: #00ff00\"> ────────────────────────────────────</span>\n",
              "</pre>\n"
            ],
            "text/plain": [
              "\u001b[92m──────────────────────────────────── \u001b[0m\u001b[1;34m🤖 Starting Agentic Email Triage Workflow\u001b[0m\u001b[92m ────────────────────────────────────\u001b[0m\n"
            ]
          },
          "metadata": {},
          "output_type": "display_data"
        },
        {
          "data": {
            "text/html": [
              "<pre style=\"white-space:pre;overflow-x:auto;line-height:normal;font-family:Menlo,'DejaVu Sans Mono',consolas,'Courier New',monospace\"><span style=\"color: #000080; text-decoration-color: #000080; font-weight: bold\">Step </span><span style=\"color: #000080; text-decoration-color: #000080; font-weight: bold\">1</span><span style=\"color: #000080; text-decoration-color: #000080; font-weight: bold\">: Fetching emails...</span>\n",
              "</pre>\n"
            ],
            "text/plain": [
              "\u001b[1;34mStep \u001b[0m\u001b[1;34m1\u001b[0m\u001b[1;34m: Fetching emails\u001b[0m\u001b[1;34m...\u001b[0m\n"
            ]
          },
          "metadata": {},
          "output_type": "display_data"
        },
        {
          "data": {
            "text/html": [
              "<pre style=\"white-space:pre;overflow-x:auto;line-height:normal;font-family:Menlo,'DejaVu Sans Mono',consolas,'Courier New',monospace\"><span style=\"color: #008000; text-decoration-color: #008000\">✅ Fetched </span><span style=\"color: #008000; text-decoration-color: #008000; font-weight: bold\">10</span><span style=\"color: #008000; text-decoration-color: #008000\"> emails from </span><span style=\"color: #008000; text-decoration-color: #008000; font-weight: bold\">06</span><span style=\"color: #008000; text-decoration-color: #008000\">-Sep-</span><span style=\"color: #008000; text-decoration-color: #008000; font-weight: bold\">2025</span>\n",
              "</pre>\n"
            ],
            "text/plain": [
              "\u001b[32m✅ Fetched \u001b[0m\u001b[1;32m10\u001b[0m\u001b[32m emails from \u001b[0m\u001b[1;32m06\u001b[0m\u001b[32m-Sep-\u001b[0m\u001b[1;32m2025\u001b[0m\n"
            ]
          },
          "metadata": {},
          "output_type": "display_data"
        },
        {
          "data": {
            "text/html": [
              "<pre style=\"white-space:pre;overflow-x:auto;line-height:normal;font-family:Menlo,'DejaVu Sans Mono',consolas,'Courier New',monospace\">\n",
              "<span style=\"color: #000080; text-decoration-color: #000080; font-weight: bold\">Step </span><span style=\"color: #000080; text-decoration-color: #000080; font-weight: bold\">2</span><span style=\"color: #000080; text-decoration-color: #000080; font-weight: bold\">: Analyzing </span><span style=\"color: #000080; text-decoration-color: #000080; font-weight: bold\">10</span><span style=\"color: #000080; text-decoration-color: #000080; font-weight: bold\"> emails with LLM...</span>\n",
              "</pre>\n"
            ],
            "text/plain": [
              "\n",
              "\u001b[1;34mStep \u001b[0m\u001b[1;34m2\u001b[0m\u001b[1;34m: Analyzing \u001b[0m\u001b[1;34m10\u001b[0m\u001b[1;34m emails with LLM\u001b[0m\u001b[1;34m...\u001b[0m\n"
            ]
          },
          "metadata": {},
          "output_type": "display_data"
        },
        {
          "data": {
            "text/html": [
              "<pre style=\"white-space:pre;overflow-x:auto;line-height:normal;font-family:Menlo,'DejaVu Sans Mono',consolas,'Courier New',monospace\"><span style=\"color: #000080; text-decoration-color: #000080\">🧠 Analyzing </span><span style=\"color: #000080; text-decoration-color: #000080; font-weight: bold\">10</span><span style=\"color: #000080; text-decoration-color: #000080\"> emails with LLM...</span>\n",
              "</pre>\n"
            ],
            "text/plain": [
              "\u001b[34m🧠 Analyzing \u001b[0m\u001b[1;34m10\u001b[0m\u001b[34m emails with LLM\u001b[0m\u001b[34m...\u001b[0m\n"
            ]
          },
          "metadata": {},
          "output_type": "display_data"
        },
        {
          "data": {
            "text/html": [
              "<pre style=\"white-space:pre;overflow-x:auto;line-height:normal;font-family:Menlo,'DejaVu Sans Mono',consolas,'Courier New',monospace\"><span style=\"color: #7f7f7f; text-decoration-color: #7f7f7f\">Processing email </span><span style=\"color: #7fbfbf; text-decoration-color: #7fbfbf; font-weight: bold\">1</span><span style=\"color: #7f7f7f; text-decoration-color: #7f7f7f\">/</span><span style=\"color: #7fbfbf; text-decoration-color: #7fbfbf; font-weight: bold\">10</span><span style=\"color: #bfbf7f; text-decoration-color: #bfbf7f\">...</span>\n",
              "</pre>\n"
            ],
            "text/plain": [
              "\u001b[2mProcessing email \u001b[0m\u001b[1;2;36m1\u001b[0m\u001b[2m/\u001b[0m\u001b[1;2;36m10\u001b[0m\u001b[2;33m...\u001b[0m\n"
            ]
          },
          "metadata": {},
          "output_type": "display_data"
        },
        {
          "data": {
            "text/html": [
              "<pre style=\"white-space:pre;overflow-x:auto;line-height:normal;font-family:Menlo,'DejaVu Sans Mono',consolas,'Courier New',monospace\"><span style=\"color: #7f7f7f; text-decoration-color: #7f7f7f\">Processing email </span><span style=\"color: #7fbfbf; text-decoration-color: #7fbfbf; font-weight: bold\">2</span><span style=\"color: #7f7f7f; text-decoration-color: #7f7f7f\">/</span><span style=\"color: #7fbfbf; text-decoration-color: #7fbfbf; font-weight: bold\">10</span><span style=\"color: #bfbf7f; text-decoration-color: #bfbf7f\">...</span>\n",
              "</pre>\n"
            ],
            "text/plain": [
              "\u001b[2mProcessing email \u001b[0m\u001b[1;2;36m2\u001b[0m\u001b[2m/\u001b[0m\u001b[1;2;36m10\u001b[0m\u001b[2;33m...\u001b[0m\n"
            ]
          },
          "metadata": {},
          "output_type": "display_data"
        },
        {
          "data": {
            "text/html": [
              "<pre style=\"white-space:pre;overflow-x:auto;line-height:normal;font-family:Menlo,'DejaVu Sans Mono',consolas,'Courier New',monospace\"><span style=\"color: #7f7f7f; text-decoration-color: #7f7f7f\">Processing email </span><span style=\"color: #7fbfbf; text-decoration-color: #7fbfbf; font-weight: bold\">3</span><span style=\"color: #7f7f7f; text-decoration-color: #7f7f7f\">/</span><span style=\"color: #7fbfbf; text-decoration-color: #7fbfbf; font-weight: bold\">10</span><span style=\"color: #bfbf7f; text-decoration-color: #bfbf7f\">...</span>\n",
              "</pre>\n"
            ],
            "text/plain": [
              "\u001b[2mProcessing email \u001b[0m\u001b[1;2;36m3\u001b[0m\u001b[2m/\u001b[0m\u001b[1;2;36m10\u001b[0m\u001b[2;33m...\u001b[0m\n"
            ]
          },
          "metadata": {},
          "output_type": "display_data"
        },
        {
          "data": {
            "text/html": [
              "<pre style=\"white-space:pre;overflow-x:auto;line-height:normal;font-family:Menlo,'DejaVu Sans Mono',consolas,'Courier New',monospace\"><span style=\"color: #7f7f7f; text-decoration-color: #7f7f7f\">Processing email </span><span style=\"color: #7fbfbf; text-decoration-color: #7fbfbf; font-weight: bold\">4</span><span style=\"color: #7f7f7f; text-decoration-color: #7f7f7f\">/</span><span style=\"color: #7fbfbf; text-decoration-color: #7fbfbf; font-weight: bold\">10</span><span style=\"color: #bfbf7f; text-decoration-color: #bfbf7f\">...</span>\n",
              "</pre>\n"
            ],
            "text/plain": [
              "\u001b[2mProcessing email \u001b[0m\u001b[1;2;36m4\u001b[0m\u001b[2m/\u001b[0m\u001b[1;2;36m10\u001b[0m\u001b[2;33m...\u001b[0m\n"
            ]
          },
          "metadata": {},
          "output_type": "display_data"
        },
        {
          "data": {
            "text/html": [
              "<pre style=\"white-space:pre;overflow-x:auto;line-height:normal;font-family:Menlo,'DejaVu Sans Mono',consolas,'Courier New',monospace\"><span style=\"color: #7f7f7f; text-decoration-color: #7f7f7f\">Processing email </span><span style=\"color: #7fbfbf; text-decoration-color: #7fbfbf; font-weight: bold\">5</span><span style=\"color: #7f7f7f; text-decoration-color: #7f7f7f\">/</span><span style=\"color: #7fbfbf; text-decoration-color: #7fbfbf; font-weight: bold\">10</span><span style=\"color: #bfbf7f; text-decoration-color: #bfbf7f\">...</span>\n",
              "</pre>\n"
            ],
            "text/plain": [
              "\u001b[2mProcessing email \u001b[0m\u001b[1;2;36m5\u001b[0m\u001b[2m/\u001b[0m\u001b[1;2;36m10\u001b[0m\u001b[2;33m...\u001b[0m\n"
            ]
          },
          "metadata": {},
          "output_type": "display_data"
        },
        {
          "data": {
            "text/html": [
              "<pre style=\"white-space:pre;overflow-x:auto;line-height:normal;font-family:Menlo,'DejaVu Sans Mono',consolas,'Courier New',monospace\"><span style=\"color: #7f7f7f; text-decoration-color: #7f7f7f\">Processing email </span><span style=\"color: #7fbfbf; text-decoration-color: #7fbfbf; font-weight: bold\">6</span><span style=\"color: #7f7f7f; text-decoration-color: #7f7f7f\">/</span><span style=\"color: #7fbfbf; text-decoration-color: #7fbfbf; font-weight: bold\">10</span><span style=\"color: #bfbf7f; text-decoration-color: #bfbf7f\">...</span>\n",
              "</pre>\n"
            ],
            "text/plain": [
              "\u001b[2mProcessing email \u001b[0m\u001b[1;2;36m6\u001b[0m\u001b[2m/\u001b[0m\u001b[1;2;36m10\u001b[0m\u001b[2;33m...\u001b[0m\n"
            ]
          },
          "metadata": {},
          "output_type": "display_data"
        },
        {
          "data": {
            "text/html": [
              "<pre style=\"white-space:pre;overflow-x:auto;line-height:normal;font-family:Menlo,'DejaVu Sans Mono',consolas,'Courier New',monospace\"><span style=\"color: #7f7f7f; text-decoration-color: #7f7f7f\">Processing email </span><span style=\"color: #7fbfbf; text-decoration-color: #7fbfbf; font-weight: bold\">7</span><span style=\"color: #7f7f7f; text-decoration-color: #7f7f7f\">/</span><span style=\"color: #7fbfbf; text-decoration-color: #7fbfbf; font-weight: bold\">10</span><span style=\"color: #bfbf7f; text-decoration-color: #bfbf7f\">...</span>\n",
              "</pre>\n"
            ],
            "text/plain": [
              "\u001b[2mProcessing email \u001b[0m\u001b[1;2;36m7\u001b[0m\u001b[2m/\u001b[0m\u001b[1;2;36m10\u001b[0m\u001b[2;33m...\u001b[0m\n"
            ]
          },
          "metadata": {},
          "output_type": "display_data"
        },
        {
          "data": {
            "text/html": [
              "<pre style=\"white-space:pre;overflow-x:auto;line-height:normal;font-family:Menlo,'DejaVu Sans Mono',consolas,'Courier New',monospace\"><span style=\"color: #7f7f7f; text-decoration-color: #7f7f7f\">Processing email </span><span style=\"color: #7fbfbf; text-decoration-color: #7fbfbf; font-weight: bold\">8</span><span style=\"color: #7f7f7f; text-decoration-color: #7f7f7f\">/</span><span style=\"color: #7fbfbf; text-decoration-color: #7fbfbf; font-weight: bold\">10</span><span style=\"color: #bfbf7f; text-decoration-color: #bfbf7f\">...</span>\n",
              "</pre>\n"
            ],
            "text/plain": [
              "\u001b[2mProcessing email \u001b[0m\u001b[1;2;36m8\u001b[0m\u001b[2m/\u001b[0m\u001b[1;2;36m10\u001b[0m\u001b[2;33m...\u001b[0m\n"
            ]
          },
          "metadata": {},
          "output_type": "display_data"
        },
        {
          "data": {
            "text/html": [
              "<pre style=\"white-space:pre;overflow-x:auto;line-height:normal;font-family:Menlo,'DejaVu Sans Mono',consolas,'Courier New',monospace\"><span style=\"color: #7f7f7f; text-decoration-color: #7f7f7f\">Processing email </span><span style=\"color: #7fbfbf; text-decoration-color: #7fbfbf; font-weight: bold\">9</span><span style=\"color: #7f7f7f; text-decoration-color: #7f7f7f\">/</span><span style=\"color: #7fbfbf; text-decoration-color: #7fbfbf; font-weight: bold\">10</span><span style=\"color: #bfbf7f; text-decoration-color: #bfbf7f\">...</span>\n",
              "</pre>\n"
            ],
            "text/plain": [
              "\u001b[2mProcessing email \u001b[0m\u001b[1;2;36m9\u001b[0m\u001b[2m/\u001b[0m\u001b[1;2;36m10\u001b[0m\u001b[2;33m...\u001b[0m\n"
            ]
          },
          "metadata": {},
          "output_type": "display_data"
        },
        {
          "data": {
            "text/html": [
              "<pre style=\"white-space:pre;overflow-x:auto;line-height:normal;font-family:Menlo,'DejaVu Sans Mono',consolas,'Courier New',monospace\"><span style=\"color: #7f7f7f; text-decoration-color: #7f7f7f\">Processing email </span><span style=\"color: #7fbfbf; text-decoration-color: #7fbfbf; font-weight: bold\">10</span><span style=\"color: #7f7f7f; text-decoration-color: #7f7f7f\">/</span><span style=\"color: #7fbfbf; text-decoration-color: #7fbfbf; font-weight: bold\">10</span><span style=\"color: #bfbf7f; text-decoration-color: #bfbf7f\">...</span>\n",
              "</pre>\n"
            ],
            "text/plain": [
              "\u001b[2mProcessing email \u001b[0m\u001b[1;2;36m10\u001b[0m\u001b[2m/\u001b[0m\u001b[1;2;36m10\u001b[0m\u001b[2;33m...\u001b[0m\n"
            ]
          },
          "metadata": {},
          "output_type": "display_data"
        },
        {
          "data": {
            "text/html": [
              "<pre style=\"white-space:pre;overflow-x:auto;line-height:normal;font-family:Menlo,'DejaVu Sans Mono',consolas,'Courier New',monospace\"><span style=\"color: #008000; text-decoration-color: #008000\">✅ Completed analysis of </span><span style=\"color: #008000; text-decoration-color: #008000; font-weight: bold\">10</span><span style=\"color: #008000; text-decoration-color: #008000\"> emails</span>\n",
              "</pre>\n"
            ],
            "text/plain": [
              "\u001b[32m✅ Completed analysis of \u001b[0m\u001b[1;32m10\u001b[0m\u001b[32m emails\u001b[0m\n"
            ]
          },
          "metadata": {},
          "output_type": "display_data"
        },
        {
          "data": {
            "text/html": [
              "<pre style=\"white-space:pre;overflow-x:auto;line-height:normal;font-family:Menlo,'DejaVu Sans Mono',consolas,'Courier New',monospace\">\n",
              "<span style=\"color: #000080; text-decoration-color: #000080; font-weight: bold\">Step </span><span style=\"color: #000080; text-decoration-color: #000080; font-weight: bold\">3</span><span style=\"color: #000080; text-decoration-color: #000080; font-weight: bold\">: Generating reports...</span>\n",
              "</pre>\n"
            ],
            "text/plain": [
              "\n",
              "\u001b[1;34mStep \u001b[0m\u001b[1;34m3\u001b[0m\u001b[1;34m: Generating reports\u001b[0m\u001b[1;34m...\u001b[0m\n"
            ]
          },
          "metadata": {},
          "output_type": "display_data"
        },
        {
          "data": {
            "text/html": [
              "<pre style=\"white-space:pre;overflow-x:auto;line-height:normal;font-family:Menlo,'DejaVu Sans Mono',consolas,'Courier New',monospace\"><span style=\"color: #000080; text-decoration-color: #000080\">📈 Email Summary: </span><span style=\"color: #000080; text-decoration-color: #000080; font-weight: bold\">0</span><span style=\"color: #000080; text-decoration-color: #000080\"> High, </span><span style=\"color: #000080; text-decoration-color: #000080; font-weight: bold\">9</span><span style=\"color: #000080; text-decoration-color: #000080\"> Medium, </span><span style=\"color: #000080; text-decoration-color: #000080; font-weight: bold\">1</span><span style=\"color: #000080; text-decoration-color: #000080\"> Low priority</span>\n",
              "</pre>\n"
            ],
            "text/plain": [
              "\u001b[34m📈 Email Summary: \u001b[0m\u001b[1;34m0\u001b[0m\u001b[34m High, \u001b[0m\u001b[1;34m9\u001b[0m\u001b[34m Medium, \u001b[0m\u001b[1;34m1\u001b[0m\u001b[34m Low priority\u001b[0m\n"
            ]
          },
          "metadata": {},
          "output_type": "display_data"
        },
        {
          "data": {
            "text/html": [
              "<pre style=\"white-space:pre;overflow-x:auto;line-height:normal;font-family:Menlo,'DejaVu Sans Mono',consolas,'Courier New',monospace\">\n",
              "<span style=\"color: #008000; text-decoration-color: #008000; font-weight: bold\">✅ Workflow Complete!</span>\n",
              "</pre>\n"
            ],
            "text/plain": [
              "\n",
              "\u001b[1;32m✅ Workflow Complete!\u001b[0m\n"
            ]
          },
          "metadata": {},
          "output_type": "display_data"
        },
        {
          "data": {
            "text/html": [
              "<pre style=\"white-space:pre;overflow-x:auto;line-height:normal;font-family:Menlo,'DejaVu Sans Mono',consolas,'Courier New',monospace\"><span style=\"color: #00ff00; text-decoration-color: #00ff00\">─────────────────────────────────────────── </span><span style=\"color: #000080; text-decoration-color: #000080; font-weight: bold\">📧 Prioritized Email Digest</span><span style=\"color: #00ff00; text-decoration-color: #00ff00\"> ───────────────────────────────────────────</span>\n",
              "</pre>\n"
            ],
            "text/plain": [
              "\u001b[92m─────────────────────────────────────────── \u001b[0m\u001b[1;34m📧 Prioritized Email Digest\u001b[0m\u001b[92m ───────────────────────────────────────────\u001b[0m\n"
            ]
          },
          "metadata": {},
          "output_type": "display_data"
        },
        {
          "data": {
            "text/html": [
              "<pre style=\"white-space:pre;overflow-x:auto;line-height:normal;font-family:Menlo,'DejaVu Sans Mono',consolas,'Courier New',monospace\">┏━━━━━━━━━━━━━━━━━━━━━━━━━━━━━━━━━━━━━━━━━━━━━━━━━━━━━━━━━━━━━━━━━━━━━━━━━━━━━━━━━━━━━━━━━━━━━━━━━━━━━━━━━━━━━━━━━┓\n",
              "┃                                         <span style=\"font-weight: bold\">📧 Email Digest for 06-Sep-2025</span>                                         ┃\n",
              "┗━━━━━━━━━━━━━━━━━━━━━━━━━━━━━━━━━━━━━━━━━━━━━━━━━━━━━━━━━━━━━━━━━━━━━━━━━━━━━━━━━━━━━━━━━━━━━━━━━━━━━━━━━━━━━━━━━┛\n",
              "\n",
              "\n",
              "                                           <span style=\"font-weight: bold; text-decoration: underline\">🟡 Medium Priority (9 emails)</span>                                           \n",
              "\n",
              "<span style=\"font-weight: bold\">📨 From: express@jobagent.stepstone.de  |  Subject: You have the skills for this job: Junior Managers Program - HR</span> \n",
              "                                          <span style=\"font-weight: bold\">- with a focus on HR tech, d...</span>                                          \n",
              "\n",
              "<span style=\"font-weight: bold\">Summary:</span> The email is about a job opportunity at StepStone, specifically the Junior Managers Program in HR with a  \n",
              "focus on HR tech.                                                                                                  \n",
              "\n",
              "<span style=\"font-weight: bold\">Action Items:</span> Apply for the job or visit the company's social media profiles                                       \n",
              "\n",
              "<span style=\"color: #808000; text-decoration-color: #808000\">───────────────────────────────────────────────────────────────────────────────────────────────────────────────────</span>\n",
              " <span style=\"font-weight: bold\">📨 From: jobalerts-noreply@linkedin.com  |  Subject: “software engineer”: AfterQuery Experts - Software Engineer</span>  \n",
              "                                                 <span style=\"font-weight: bold\">posted on 9/5/25</span>                                                  \n",
              "\n",
              "<span style=\"font-weight: bold\">Summary:</span> This email contains job alerts for software engineering positions in Hyderabad, including a new job       \n",
              "posting at AfterQuery Experts.                                                                                     \n",
              "\n",
              "<span style=\"font-weight: bold\">Action Items:</span> ['View the job postings: https://www.linkedin.com/comm/jobs/view/[job ID]', 'Apply with resume and   \n",
              "profile']                                                                                                          \n",
              "\n",
              "<span style=\"color: #808000; text-decoration-color: #808000\">───────────────────────────────────────────────────────────────────────────────────────────────────────────────────</span>\n",
              "                   <span style=\"font-weight: bold\">📨 From: newsletter@opencv.org  |  Subject: Here's Your OpenCV Friday Update!</span>                   \n",
              "\n",
              "<span style=\"font-weight: bold\">Summary:</span> OpenCV has lowered prices for merchandise, a new newsletter is available with updates and projects to     \n",
              "explore.                                                                                                           \n",
              "\n",
              "<span style=\"font-weight: bold\">Action Items:</span> Shop Official OpenCV Merchandise, Explore Cool OpenCV Projects on Hackster                           \n",
              "\n",
              "<span style=\"color: #808000; text-decoration-color: #808000\">───────────────────────────────────────────────────────────────────────────────────────────────────────────────────</span>\n",
              "        <span style=\"font-weight: bold\">📨 From: no-reply@outlier.ai  |  Subject: Inside Outlier: Finance expertise and your Outlier update</span>        \n",
              "\n",
              "<span style=\"font-weight: bold\">Summary:</span> The email promotes a platform called Outlier that allows finance experts to monetize their knowledge by   \n",
              "training AI systems, with flexible scheduling and competitive rates.                                               \n",
              "\n",
              "<span style=\"font-weight: bold\">Action Items:</span> [\"Apply now to start training tomorrow's financial AI\", 'Email insideoutlier@outlier.ai for the      \n",
              "chance to be featured in the next newsletter', 'Send a photo of your window view alongside your Outlier dashboard']\n",
              "\n",
              "<span style=\"color: #808000; text-decoration-color: #808000\">───────────────────────────────────────────────────────────────────────────────────────────────────────────────────</span>\n",
              "              <span style=\"font-weight: bold\">📨 From: no-reply@zoomin.com  |  Subject: Personalized Ganesha Frames &amp; Décor from ₹239</span>              \n",
              "\n",
              "<span style=\"font-weight: bold\">Summary:</span> Zoomin is offering a 20% discount on personalized Ganesha frames and decor, with various products such as \n",
              "photo magnets, calendars, posters, and acrylic prints available for purchase.                                      \n",
              "\n",
              "<span style=\"font-weight: bold\">Action Items:</span> Use code BDAYSALE to get 20% off sitewide, shop now for specific products                            \n",
              "\n",
              "<span style=\"color: #808000; text-decoration-color: #808000\">───────────────────────────────────────────────────────────────────────────────────────────────────────────────────</span>\n",
              "        <span style=\"font-weight: bold\">📨 From: noreply@dare2compete.news  |  Subject: [Congrats] Nokia is hiring - Earn a CTC of 15 LPA!</span>         \n",
              "\n",
              "<span style=\"font-weight: bold\">Summary:</span> This email promotes job openings at various companies, including Nokia, with competitive salary packages. \n",
              "It also mentions other job listings and opportunities to get noticed by employers on Unstop.                       \n",
              "\n",
              "<span style=\"font-weight: bold\">Action Items:</span> Apply for jobs, complete profile on Unstop                                                           \n",
              "\n",
              "<span style=\"color: #808000; text-decoration-color: #808000\">───────────────────────────────────────────────────────────────────────────────────────────────────────────────────</span>\n",
              "  <span style=\"font-weight: bold\">📨 From: noreply@emails.unstop.com  |  Subject: Hiring Alert! | Python Development Internship at InternshipHub</span>   \n",
              "\n",
              "<span style=\"font-weight: bold\">Summary:</span> InternshipHub is seeking a highly motivated and talented individual for the role of Python Development    \n",
              "Internship. The email invites the recipient to apply for this opportunity.                                         \n",
              "\n",
              "<span style=\"font-weight: bold\">Action Items:</span> Apply Now                                                                                            \n",
              "\n",
              "<span style=\"color: #808000; text-decoration-color: #808000\">───────────────────────────────────────────────────────────────────────────────────────────────────────────────────</span>\n",
              "       <span style=\"font-weight: bold\">📨 From: reminders@123greetings.com  |  Subject: Anniversary of rupin.manthan@gmail.com is tomorrow!</span>        \n",
              "\n",
              "<span style=\"font-weight: bold\">Summary:</span> This email is a reminder to send an anniversary ecard for someone's upcoming birthday, with links to      \n",
              "download the ecard and mobile app.                                                                                 \n",
              "\n",
              "<span style=\"font-weight: bold\">Action Items:</span> Send an anniversary ecard, Download the 123Greetings Mobile App                                      \n",
              "\n",
              "<span style=\"color: #808000; text-decoration-color: #808000\">───────────────────────────────────────────────────────────────────────────────────────────────────────────────────</span>\n",
              "<span style=\"font-weight: bold\">📨 From: updates@simplilearnmailer.com  |  Subject: From Python to GenAI - Become Job-Ready with Purdue University</span> \n",
              "                                   <span style=\"font-weight: bold\">Online’s Applied Generative AI Specialization</span>                                   \n",
              "\n",
              "<span style=\"font-weight: bold\">Summary:</span> The email promotes an online course on generative AI, a specialization offered by Purdue University in    \n",
              "collaboration with Simplilearn and Microsoft Azure. The program aims to equip learners with skills to leverage     \n",
              "generative AI for real-world applications. It highlights the expected growth of the gen AI market and encourages   \n",
              "enrollment.                                                                                                        \n",
              "\n",
              "<span style=\"font-weight: bold\">Action Items:</span> Enroll now in the Applied Generative AI Specialization                                               \n",
              "\n",
              "<span style=\"color: #808000; text-decoration-color: #808000\">───────────────────────────────────────────────────────────────────────────────────────────────────────────────────</span>\n",
              "\n",
              "                                            <span style=\"font-weight: bold; text-decoration: underline\">🟢 Low Priority (1 emails)</span>                                             \n",
              "\n",
              "                  <span style=\"font-weight: bold\">📨 From: tatacliq@mall.tatacliq.com  |  Subject: Crafted by India, Loved by You</span>                  \n",
              "\n",
              "<span style=\"font-weight: bold\">Summary:</span> This email is a promotional message from Tata CLiQ Shop, showcasing heritage picks and modern styles from \n",
              "Indian designers, with an invitation to download their app.                                                        \n",
              "\n",
              "<span style=\"font-weight: bold\">Action Items:</span> Download The App                                                                                     \n",
              "\n",
              "<span style=\"color: #808000; text-decoration-color: #808000\">───────────────────────────────────────────────────────────────────────────────────────────────────────────────────</span>\n",
              "</pre>\n"
            ],
            "text/plain": [
              "┏━━━━━━━━━━━━━━━━━━━━━━━━━━━━━━━━━━━━━━━━━━━━━━━━━━━━━━━━━━━━━━━━━━━━━━━━━━━━━━━━━━━━━━━━━━━━━━━━━━━━━━━━━━━━━━━━━┓\n",
              "┃                                         \u001b[1m📧 Email Digest for 06-Sep-2025\u001b[0m                                         ┃\n",
              "┗━━━━━━━━━━━━━━━━━━━━━━━━━━━━━━━━━━━━━━━━━━━━━━━━━━━━━━━━━━━━━━━━━━━━━━━━━━━━━━━━━━━━━━━━━━━━━━━━━━━━━━━━━━━━━━━━━┛\n",
              "\n",
              "\n",
              "                                           \u001b[1;4m🟡 Medium Priority (9 emails)\u001b[0m                                           \n",
              "\n",
              "\u001b[1m📨 From: express@jobagent.stepstone.de  |  Subject: You have the skills for this job: Junior Managers Program - HR\u001b[0m \n",
              "                                          \u001b[1m- with a focus on HR tech, d...\u001b[0m                                          \n",
              "\n",
              "\u001b[1mSummary:\u001b[0m The email is about a job opportunity at StepStone, specifically the Junior Managers Program in HR with a  \n",
              "focus on HR tech.                                                                                                  \n",
              "\n",
              "\u001b[1mAction Items:\u001b[0m Apply for the job or visit the company's social media profiles                                       \n",
              "\n",
              "\u001b[33m───────────────────────────────────────────────────────────────────────────────────────────────────────────────────\u001b[0m\n",
              " \u001b[1m📨 From: jobalerts-noreply@linkedin.com  |  Subject: “software engineer”: AfterQuery Experts - Software Engineer\u001b[0m  \n",
              "                                                 \u001b[1mposted on 9/5/25\u001b[0m                                                  \n",
              "\n",
              "\u001b[1mSummary:\u001b[0m This email contains job alerts for software engineering positions in Hyderabad, including a new job       \n",
              "posting at AfterQuery Experts.                                                                                     \n",
              "\n",
              "\u001b[1mAction Items:\u001b[0m ['View the job postings: https://www.linkedin.com/comm/jobs/view/[job ID]', 'Apply with resume and   \n",
              "profile']                                                                                                          \n",
              "\n",
              "\u001b[33m───────────────────────────────────────────────────────────────────────────────────────────────────────────────────\u001b[0m\n",
              "                   \u001b[1m📨 From: newsletter@opencv.org  |  Subject: Here's Your OpenCV Friday Update!\u001b[0m                   \n",
              "\n",
              "\u001b[1mSummary:\u001b[0m OpenCV has lowered prices for merchandise, a new newsletter is available with updates and projects to     \n",
              "explore.                                                                                                           \n",
              "\n",
              "\u001b[1mAction Items:\u001b[0m Shop Official OpenCV Merchandise, Explore Cool OpenCV Projects on Hackster                           \n",
              "\n",
              "\u001b[33m───────────────────────────────────────────────────────────────────────────────────────────────────────────────────\u001b[0m\n",
              "        \u001b[1m📨 From: no-reply@outlier.ai  |  Subject: Inside Outlier: Finance expertise and your Outlier update\u001b[0m        \n",
              "\n",
              "\u001b[1mSummary:\u001b[0m The email promotes a platform called Outlier that allows finance experts to monetize their knowledge by   \n",
              "training AI systems, with flexible scheduling and competitive rates.                                               \n",
              "\n",
              "\u001b[1mAction Items:\u001b[0m [\"Apply now to start training tomorrow's financial AI\", 'Email insideoutlier@outlier.ai for the      \n",
              "chance to be featured in the next newsletter', 'Send a photo of your window view alongside your Outlier dashboard']\n",
              "\n",
              "\u001b[33m───────────────────────────────────────────────────────────────────────────────────────────────────────────────────\u001b[0m\n",
              "              \u001b[1m📨 From: no-reply@zoomin.com  |  Subject: Personalized Ganesha Frames & Décor from ₹239\u001b[0m              \n",
              "\n",
              "\u001b[1mSummary:\u001b[0m Zoomin is offering a 20% discount on personalized Ganesha frames and decor, with various products such as \n",
              "photo magnets, calendars, posters, and acrylic prints available for purchase.                                      \n",
              "\n",
              "\u001b[1mAction Items:\u001b[0m Use code BDAYSALE to get 20% off sitewide, shop now for specific products                            \n",
              "\n",
              "\u001b[33m───────────────────────────────────────────────────────────────────────────────────────────────────────────────────\u001b[0m\n",
              "        \u001b[1m📨 From: noreply@dare2compete.news  |  Subject: [Congrats] Nokia is hiring - Earn a CTC of 15 LPA!\u001b[0m         \n",
              "\n",
              "\u001b[1mSummary:\u001b[0m This email promotes job openings at various companies, including Nokia, with competitive salary packages. \n",
              "It also mentions other job listings and opportunities to get noticed by employers on Unstop.                       \n",
              "\n",
              "\u001b[1mAction Items:\u001b[0m Apply for jobs, complete profile on Unstop                                                           \n",
              "\n",
              "\u001b[33m───────────────────────────────────────────────────────────────────────────────────────────────────────────────────\u001b[0m\n",
              "  \u001b[1m📨 From: noreply@emails.unstop.com  |  Subject: Hiring Alert! | Python Development Internship at InternshipHub\u001b[0m   \n",
              "\n",
              "\u001b[1mSummary:\u001b[0m InternshipHub is seeking a highly motivated and talented individual for the role of Python Development    \n",
              "Internship. The email invites the recipient to apply for this opportunity.                                         \n",
              "\n",
              "\u001b[1mAction Items:\u001b[0m Apply Now                                                                                            \n",
              "\n",
              "\u001b[33m───────────────────────────────────────────────────────────────────────────────────────────────────────────────────\u001b[0m\n",
              "       \u001b[1m📨 From: reminders@123greetings.com  |  Subject: Anniversary of rupin.manthan@gmail.com is tomorrow!\u001b[0m        \n",
              "\n",
              "\u001b[1mSummary:\u001b[0m This email is a reminder to send an anniversary ecard for someone's upcoming birthday, with links to      \n",
              "download the ecard and mobile app.                                                                                 \n",
              "\n",
              "\u001b[1mAction Items:\u001b[0m Send an anniversary ecard, Download the 123Greetings Mobile App                                      \n",
              "\n",
              "\u001b[33m───────────────────────────────────────────────────────────────────────────────────────────────────────────────────\u001b[0m\n",
              "\u001b[1m📨 From: updates@simplilearnmailer.com  |  Subject: From Python to GenAI - Become Job-Ready with Purdue University\u001b[0m \n",
              "                                   \u001b[1mOnline’s Applied Generative AI Specialization\u001b[0m                                   \n",
              "\n",
              "\u001b[1mSummary:\u001b[0m The email promotes an online course on generative AI, a specialization offered by Purdue University in    \n",
              "collaboration with Simplilearn and Microsoft Azure. The program aims to equip learners with skills to leverage     \n",
              "generative AI for real-world applications. It highlights the expected growth of the gen AI market and encourages   \n",
              "enrollment.                                                                                                        \n",
              "\n",
              "\u001b[1mAction Items:\u001b[0m Enroll now in the Applied Generative AI Specialization                                               \n",
              "\n",
              "\u001b[33m───────────────────────────────────────────────────────────────────────────────────────────────────────────────────\u001b[0m\n",
              "\n",
              "                                            \u001b[1;4m🟢 Low Priority (1 emails)\u001b[0m                                             \n",
              "\n",
              "                  \u001b[1m📨 From: tatacliq@mall.tatacliq.com  |  Subject: Crafted by India, Loved by You\u001b[0m                  \n",
              "\n",
              "\u001b[1mSummary:\u001b[0m This email is a promotional message from Tata CLiQ Shop, showcasing heritage picks and modern styles from \n",
              "Indian designers, with an invitation to download their app.                                                        \n",
              "\n",
              "\u001b[1mAction Items:\u001b[0m Download The App                                                                                     \n",
              "\n",
              "\u001b[33m───────────────────────────────────────────────────────────────────────────────────────────────────────────────────\u001b[0m\n"
            ]
          },
          "metadata": {},
          "output_type": "display_data"
        },
        {
          "data": {
            "text/html": [
              "<pre style=\"white-space:pre;overflow-x:auto;line-height:normal;font-family:Menlo,'DejaVu Sans Mono',consolas,'Courier New',monospace\">\n",
              "<span style=\"color: #000080; text-decoration-color: #000080; font-weight: bold\">📈 DataFrame Preview (</span><span style=\"color: #000080; text-decoration-color: #000080; font-weight: bold\">10</span><span style=\"color: #000080; text-decoration-color: #000080; font-weight: bold\"> emails):</span>\n",
              "</pre>\n"
            ],
            "text/plain": [
              "\n",
              "\u001b[1;34m📈 DataFrame Preview \u001b[0m\u001b[1;34m(\u001b[0m\u001b[1;34m10\u001b[0m\u001b[1;34m emails\u001b[0m\u001b[1;34m)\u001b[0m\u001b[1;34m:\u001b[0m\n"
            ]
          },
          "metadata": {},
          "output_type": "display_data"
        },
        {
          "data": {
            "text/html": [
              "<pre style=\"white-space:pre;overflow-x:auto;line-height:normal;font-family:Menlo,'DejaVu Sans Mono',consolas,'Courier New',monospace\"><span style=\"color: #7f7f7f; text-decoration-color: #7f7f7f\">Full data available in </span><span style=\"color: #7fbf7f; text-decoration-color: #7fbf7f\">'df'</span><span style=\"color: #7f7f7f; text-decoration-color: #7f7f7f\"> variable for further analysis</span>\n",
              "</pre>\n"
            ],
            "text/plain": [
              "\u001b[2mFull data available in \u001b[0m\u001b[2;32m'df'\u001b[0m\u001b[2m variable for further analysis\u001b[0m\n"
            ]
          },
          "metadata": {},
          "output_type": "display_data"
        },
        {
          "data": {
            "text/html": [
              "<div>\n",
              "<style scoped>\n",
              "    .dataframe tbody tr th:only-of-type {\n",
              "        vertical-align: middle;\n",
              "    }\n",
              "\n",
              "    .dataframe tbody tr th {\n",
              "        vertical-align: top;\n",
              "    }\n",
              "\n",
              "    .dataframe thead th {\n",
              "        text-align: right;\n",
              "    }\n",
              "</style>\n",
              "<table border=\"1\" class=\"dataframe\">\n",
              "  <thead>\n",
              "    <tr style=\"text-align: right;\">\n",
              "      <th></th>\n",
              "      <th>from</th>\n",
              "      <th>subject</th>\n",
              "      <th>summary</th>\n",
              "      <th>actions</th>\n",
              "      <th>priority</th>\n",
              "      <th>duplicate_of</th>\n",
              "    </tr>\n",
              "  </thead>\n",
              "  <tbody>\n",
              "    <tr>\n",
              "      <th>0</th>\n",
              "      <td>express@jobagent.stepstone.de</td>\n",
              "      <td>You have the skills for this job: Junior Manag...</td>\n",
              "      <td>The email is about a job opportunity at StepSt...</td>\n",
              "      <td>Apply for the job or visit the company's socia...</td>\n",
              "      <td>Medium</td>\n",
              "      <td>None</td>\n",
              "    </tr>\n",
              "    <tr>\n",
              "      <th>1</th>\n",
              "      <td>jobalerts-noreply@linkedin.com</td>\n",
              "      <td>“software engineer”: AfterQuery Experts - Soft...</td>\n",
              "      <td>This email contains job alerts for software en...</td>\n",
              "      <td>['View the job postings: https://www.linkedin....</td>\n",
              "      <td>Medium</td>\n",
              "      <td>None</td>\n",
              "    </tr>\n",
              "    <tr>\n",
              "      <th>2</th>\n",
              "      <td>newsletter@opencv.org</td>\n",
              "      <td>Here's Your OpenCV Friday Update!</td>\n",
              "      <td>OpenCV has lowered prices for merchandise, a n...</td>\n",
              "      <td>Shop Official OpenCV Merchandise, Explore Cool...</td>\n",
              "      <td>Medium</td>\n",
              "      <td>None</td>\n",
              "    </tr>\n",
              "    <tr>\n",
              "      <th>3</th>\n",
              "      <td>no-reply@outlier.ai</td>\n",
              "      <td>Inside Outlier: Finance expertise and your Out...</td>\n",
              "      <td>The email promotes a platform called Outlier t...</td>\n",
              "      <td>[\"Apply now to start training tomorrow's finan...</td>\n",
              "      <td>Medium</td>\n",
              "      <td>None</td>\n",
              "    </tr>\n",
              "    <tr>\n",
              "      <th>4</th>\n",
              "      <td>no-reply@zoomin.com</td>\n",
              "      <td>Personalized Ganesha Frames &amp; Décor from ₹239</td>\n",
              "      <td>Zoomin is offering a 20% discount on personali...</td>\n",
              "      <td>Use code BDAYSALE to get 20% off sitewide, sho...</td>\n",
              "      <td>Medium</td>\n",
              "      <td>None</td>\n",
              "    </tr>\n",
              "    <tr>\n",
              "      <th>5</th>\n",
              "      <td>noreply@dare2compete.news</td>\n",
              "      <td>[Congrats] Nokia is hiring - Earn a CTC of 15 ...</td>\n",
              "      <td>This email promotes job openings at various co...</td>\n",
              "      <td>Apply for jobs, complete profile on Unstop</td>\n",
              "      <td>Medium</td>\n",
              "      <td>None</td>\n",
              "    </tr>\n",
              "    <tr>\n",
              "      <th>6</th>\n",
              "      <td>noreply@emails.unstop.com</td>\n",
              "      <td>Hiring Alert! | Python Development Internship ...</td>\n",
              "      <td>InternshipHub is seeking a highly motivated an...</td>\n",
              "      <td>Apply Now</td>\n",
              "      <td>Medium</td>\n",
              "      <td>None</td>\n",
              "    </tr>\n",
              "    <tr>\n",
              "      <th>7</th>\n",
              "      <td>reminders@123greetings.com</td>\n",
              "      <td>Anniversary of rupin.manthan@gmail.com is tomo...</td>\n",
              "      <td>This email is a reminder to send an anniversar...</td>\n",
              "      <td>Send an anniversary ecard, Download the 123Gre...</td>\n",
              "      <td>Medium</td>\n",
              "      <td>None</td>\n",
              "    </tr>\n",
              "    <tr>\n",
              "      <th>8</th>\n",
              "      <td>updates@simplilearnmailer.com</td>\n",
              "      <td>From Python to GenAI - Become Job-Ready with P...</td>\n",
              "      <td>The email promotes an online course on generat...</td>\n",
              "      <td>Enroll now in the Applied Generative AI Specia...</td>\n",
              "      <td>Medium</td>\n",
              "      <td>None</td>\n",
              "    </tr>\n",
              "    <tr>\n",
              "      <th>9</th>\n",
              "      <td>tatacliq@mall.tatacliq.com</td>\n",
              "      <td>Crafted by India, Loved by You</td>\n",
              "      <td>This email is a promotional message from Tata ...</td>\n",
              "      <td>Download The App</td>\n",
              "      <td>Low</td>\n",
              "      <td>None</td>\n",
              "    </tr>\n",
              "  </tbody>\n",
              "</table>\n",
              "</div>"
            ],
            "text/plain": [
              "                             from  \\\n",
              "0   express@jobagent.stepstone.de   \n",
              "1  jobalerts-noreply@linkedin.com   \n",
              "2           newsletter@opencv.org   \n",
              "3             no-reply@outlier.ai   \n",
              "4             no-reply@zoomin.com   \n",
              "5       noreply@dare2compete.news   \n",
              "6       noreply@emails.unstop.com   \n",
              "7      reminders@123greetings.com   \n",
              "8   updates@simplilearnmailer.com   \n",
              "9      tatacliq@mall.tatacliq.com   \n",
              "\n",
              "                                             subject  \\\n",
              "0  You have the skills for this job: Junior Manag...   \n",
              "1  “software engineer”: AfterQuery Experts - Soft...   \n",
              "2                  Here's Your OpenCV Friday Update!   \n",
              "3  Inside Outlier: Finance expertise and your Out...   \n",
              "4      Personalized Ganesha Frames & Décor from ₹239   \n",
              "5  [Congrats] Nokia is hiring - Earn a CTC of 15 ...   \n",
              "6  Hiring Alert! | Python Development Internship ...   \n",
              "7  Anniversary of rupin.manthan@gmail.com is tomo...   \n",
              "8  From Python to GenAI - Become Job-Ready with P...   \n",
              "9                    Crafted by India, Loved by You    \n",
              "\n",
              "                                             summary  \\\n",
              "0  The email is about a job opportunity at StepSt...   \n",
              "1  This email contains job alerts for software en...   \n",
              "2  OpenCV has lowered prices for merchandise, a n...   \n",
              "3  The email promotes a platform called Outlier t...   \n",
              "4  Zoomin is offering a 20% discount on personali...   \n",
              "5  This email promotes job openings at various co...   \n",
              "6  InternshipHub is seeking a highly motivated an...   \n",
              "7  This email is a reminder to send an anniversar...   \n",
              "8  The email promotes an online course on generat...   \n",
              "9  This email is a promotional message from Tata ...   \n",
              "\n",
              "                                             actions priority duplicate_of  \n",
              "0  Apply for the job or visit the company's socia...   Medium         None  \n",
              "1  ['View the job postings: https://www.linkedin....   Medium         None  \n",
              "2  Shop Official OpenCV Merchandise, Explore Cool...   Medium         None  \n",
              "3  [\"Apply now to start training tomorrow's finan...   Medium         None  \n",
              "4  Use code BDAYSALE to get 20% off sitewide, sho...   Medium         None  \n",
              "5         Apply for jobs, complete profile on Unstop   Medium         None  \n",
              "6                                          Apply Now   Medium         None  \n",
              "7  Send an anniversary ecard, Download the 123Gre...   Medium         None  \n",
              "8  Enroll now in the Applied Generative AI Specia...   Medium         None  \n",
              "9                                   Download The App      Low         None  "
            ]
          },
          "execution_count": 55,
          "metadata": {},
          "output_type": "execute_result"
        }
      ],
      "source": [
        "# Execute Complete Email Triage Workflow\n",
        "\n",
        "console.rule(\"[bold blue]🤖 Starting Agentic Email Triage Workflow[/bold blue]\")\n",
        "\n",
        "# Step 1: 📧 Initialize and fetch emails\n",
        "console.print(\"[bold blue]Step 1: Fetching emails...[/bold blue]\")\n",
        "fetcher = EmailFetcherAgent(EMAIL, APP_PASSWORD)\n",
        "emails = []\n",
        "\n",
        "try:\n",
        "    if EMAIL and APP_PASSWORD:\n",
        "        emails = fetcher.fetch_unread_emails(days_back=1, limit=10)\n",
        "    else:\n",
        "        console.print(\"[bold yellow]⚠️  Skipping fetch: credentials not set[/bold yellow]\")\n",
        "        console.print(\"[dim]Set EMAIL and APP_PASSWORD variables to enable email fetching[/dim]\")\n",
        "except Exception as e:\n",
        "    console.print(f\"[bold red]❌ Fetch error:[/bold red] {e}\")\n",
        "\n",
        "# Step 2: Analyze emails with LLM\n",
        "console.print(f\"\\n[bold blue]Step 2: Analyzing {len(emails)} emails with LLM...[/bold blue]\")\n",
        "summarizer = SummarizerAgent(gravix_client)\n",
        "summaries = summarizer.summarize_and_prioritize(emails)\n",
        "\n",
        "# Step 3: Generate reports\n",
        "console.print(f\"\\n[bold blue]Step 3: Generating reports...[/bold blue]\")\n",
        "date_label = (datetime.now() - timedelta(days=1)).strftime('%d-%b-%Y')\n",
        "reporter = ReporterAgent(date_label=date_label)\n",
        "df, md = reporter.run(summaries)\n",
        "\n",
        "# Step 4: Display results\n",
        "console.print(f\"\\n[bold green]✅ Workflow Complete![/bold green]\")\n",
        "console.rule(\"[bold blue]📧 Prioritized Email Digest[/bold blue]\")\n",
        "console.print(Markdown(md))\n",
        "\n",
        "# Display DataFrame preview\n",
        "if not df.empty:\n",
        "    console.print(f\"\\n[bold blue]📈 DataFrame Preview ({len(df)} emails):[/bold blue]\")\n",
        "    console.print(\"[dim]Full data available in 'df' variable for further analysis[/dim]\")\n",
        "\n",
        "# Return DataFrame for inspection\n",
        "df.head(10) if not df.empty else console.print(\"[yellow]No emails to display[/yellow]\")"
      ]
    },
    {
      "cell_type": "markdown",
      "id": "test_hdr",
      "metadata": {},
      "source": [
        "## 🧪 Advanced Features & Customization\n",
        "\n",
        "### 🔧 Testing Different Date Ranges\n",
        "You can easily test the system with different date ranges to find emails for processing:\n",
        "\n",
        "```python\n",
        "# Test with different date ranges\n",
        "fetcher.fetch_unread_emails(days_back=7, limit=5)   # Last week\n",
        "fetcher.fetch_unread_emails(days_back=30, limit=15) # Last month\n",
        "```\n",
        "\n",
        "### 🎯 Customizing Priority Logic\n",
        "Modify the SummarizerAgent prompt to adjust priority classification:\n",
        "\n",
        "```python\n",
        "# Add custom priority criteria in the prompt:\n",
        "# - High: Customer complaints, security alerts, deadline reminders\n",
        "# - Medium: Team updates, meeting requests, project status\n",
        "# - Low: Newsletters, social notifications, marketing emails\n",
        "```\n",
        "\n",
        "### 📊 Export Options\n",
        "The system generates multiple output formats for different use cases:\n",
        "\n",
        "- **DataFrame (`df`)**: Perfect for data analysis, CSV export, or integration with other systems\n",
        "- **Markdown (`md`)**: Human-readable reports for documentation or sharing\n",
        "- **Rich Console**: Interactive terminal display with colors and formatting\n",
        "\n",
        "### 🔍 Analysis Examples\n",
        "Once you have the DataFrame, you can perform advanced analysis:\n",
        "\n",
        "```python\n",
        "# Priority distribution\n",
        "priority_counts = df['priority'].value_counts()\n",
        "\n",
        "# Most active senders\n",
        "top_senders = df['from'].value_counts().head(10)\n",
        "\n",
        "# Export to CSV\n",
        "df.to_csv('email_digest.csv', index=False)\n",
        "\n",
        "# Filter high priority emails\n",
        "urgent_emails = df[df['priority'] == 'High']\n",
        "```"
      ]
    },
    {
      "cell_type": "code",
      "execution_count": 50,
      "id": "test_001",
      "metadata": {},
      "outputs": [
        {
          "data": {
            "text/html": [
              "<pre style=\"white-space:pre;overflow-x:auto;line-height:normal;font-family:Menlo,'DejaVu Sans Mono',consolas,'Courier New',monospace\"><span style=\"color: #00ff00; text-decoration-color: #00ff00\">───────────────────────────────────── </span><span style=\"color: #008080; text-decoration-color: #008080; font-weight: bold\">🧪 Advanced Testing: Custom Date Range</span><span style=\"color: #00ff00; text-decoration-color: #00ff00\"> ──────────────────────────────────────</span>\n",
              "</pre>\n"
            ],
            "text/plain": [
              "\u001b[92m───────────────────────────────────── \u001b[0m\u001b[1;36m🧪 Advanced Testing: Custom Date Range\u001b[0m\u001b[92m ──────────────────────────────────────\u001b[0m\n"
            ]
          },
          "metadata": {},
          "output_type": "display_data"
        },
        {
          "data": {
            "text/html": [
              "<pre style=\"white-space:pre;overflow-x:auto;line-height:normal;font-family:Menlo,'DejaVu Sans Mono',consolas,'Courier New',monospace\"><span style=\"color: #000080; text-decoration-color: #000080\">🔍 Testing with emails from </span><span style=\"color: #000080; text-decoration-color: #000080; font-weight: bold\">03</span><span style=\"color: #000080; text-decoration-color: #000080\">-Sep-</span><span style=\"color: #000080; text-decoration-color: #000080; font-weight: bold\">2025</span><span style=\"color: #000080; text-decoration-color: #000080\"> </span><span style=\"color: #000080; text-decoration-color: #000080; font-weight: bold\">(</span><span style=\"color: #000080; text-decoration-color: #000080\">limit: </span><span style=\"color: #000080; text-decoration-color: #000080; font-weight: bold\">5</span><span style=\"color: #000080; text-decoration-color: #000080; font-weight: bold\">)</span>\n",
              "</pre>\n"
            ],
            "text/plain": [
              "\u001b[34m🔍 Testing with emails from \u001b[0m\u001b[1;34m03\u001b[0m\u001b[34m-Sep-\u001b[0m\u001b[1;34m2025\u001b[0m\u001b[34m \u001b[0m\u001b[1;34m(\u001b[0m\u001b[34mlimit: \u001b[0m\u001b[1;34m5\u001b[0m\u001b[1;34m)\u001b[0m\n"
            ]
          },
          "metadata": {},
          "output_type": "display_data"
        },
        {
          "data": {
            "text/html": [
              "<pre style=\"white-space:pre;overflow-x:auto;line-height:normal;font-family:Menlo,'DejaVu Sans Mono',consolas,'Courier New',monospace\"><span style=\"color: #008000; text-decoration-color: #008000\">✅ Fetched </span><span style=\"color: #008000; text-decoration-color: #008000; font-weight: bold\">5</span><span style=\"color: #008000; text-decoration-color: #008000\"> emails from </span><span style=\"color: #008000; text-decoration-color: #008000; font-weight: bold\">03</span><span style=\"color: #008000; text-decoration-color: #008000\">-Sep-</span><span style=\"color: #008000; text-decoration-color: #008000; font-weight: bold\">2025</span>\n",
              "</pre>\n"
            ],
            "text/plain": [
              "\u001b[32m✅ Fetched \u001b[0m\u001b[1;32m5\u001b[0m\u001b[32m emails from \u001b[0m\u001b[1;32m03\u001b[0m\u001b[32m-Sep-\u001b[0m\u001b[1;32m2025\u001b[0m\n"
            ]
          },
          "metadata": {},
          "output_type": "display_data"
        },
        {
          "data": {
            "text/html": [
              "<pre style=\"white-space:pre;overflow-x:auto;line-height:normal;font-family:Menlo,'DejaVu Sans Mono',consolas,'Courier New',monospace\"><span style=\"color: #000080; text-decoration-color: #000080\">🧠 Analyzing </span><span style=\"color: #000080; text-decoration-color: #000080; font-weight: bold\">5</span><span style=\"color: #000080; text-decoration-color: #000080\"> emails with LLM...</span>\n",
              "</pre>\n"
            ],
            "text/plain": [
              "\u001b[34m🧠 Analyzing \u001b[0m\u001b[1;34m5\u001b[0m\u001b[34m emails with LLM\u001b[0m\u001b[34m...\u001b[0m\n"
            ]
          },
          "metadata": {},
          "output_type": "display_data"
        },
        {
          "data": {
            "text/html": [
              "<pre style=\"white-space:pre;overflow-x:auto;line-height:normal;font-family:Menlo,'DejaVu Sans Mono',consolas,'Courier New',monospace\"><span style=\"color: #7f7f7f; text-decoration-color: #7f7f7f\">Processing email </span><span style=\"color: #7fbfbf; text-decoration-color: #7fbfbf; font-weight: bold\">1</span><span style=\"color: #7f7f7f; text-decoration-color: #7f7f7f\">/</span><span style=\"color: #7fbfbf; text-decoration-color: #7fbfbf; font-weight: bold\">5</span><span style=\"color: #bfbf7f; text-decoration-color: #bfbf7f\">...</span>\n",
              "</pre>\n"
            ],
            "text/plain": [
              "\u001b[2mProcessing email \u001b[0m\u001b[1;2;36m1\u001b[0m\u001b[2m/\u001b[0m\u001b[1;2;36m5\u001b[0m\u001b[2;33m...\u001b[0m\n"
            ]
          },
          "metadata": {},
          "output_type": "display_data"
        },
        {
          "data": {
            "text/html": [
              "<pre style=\"white-space:pre;overflow-x:auto;line-height:normal;font-family:Menlo,'DejaVu Sans Mono',consolas,'Courier New',monospace\"><span style=\"color: #7f7f7f; text-decoration-color: #7f7f7f\">Processing email </span><span style=\"color: #7fbfbf; text-decoration-color: #7fbfbf; font-weight: bold\">2</span><span style=\"color: #7f7f7f; text-decoration-color: #7f7f7f\">/</span><span style=\"color: #7fbfbf; text-decoration-color: #7fbfbf; font-weight: bold\">5</span><span style=\"color: #bfbf7f; text-decoration-color: #bfbf7f\">...</span>\n",
              "</pre>\n"
            ],
            "text/plain": [
              "\u001b[2mProcessing email \u001b[0m\u001b[1;2;36m2\u001b[0m\u001b[2m/\u001b[0m\u001b[1;2;36m5\u001b[0m\u001b[2;33m...\u001b[0m\n"
            ]
          },
          "metadata": {},
          "output_type": "display_data"
        },
        {
          "data": {
            "text/html": [
              "<pre style=\"white-space:pre;overflow-x:auto;line-height:normal;font-family:Menlo,'DejaVu Sans Mono',consolas,'Courier New',monospace\"><span style=\"color: #7f7f7f; text-decoration-color: #7f7f7f\">Processing email </span><span style=\"color: #7fbfbf; text-decoration-color: #7fbfbf; font-weight: bold\">3</span><span style=\"color: #7f7f7f; text-decoration-color: #7f7f7f\">/</span><span style=\"color: #7fbfbf; text-decoration-color: #7fbfbf; font-weight: bold\">5</span><span style=\"color: #bfbf7f; text-decoration-color: #bfbf7f\">...</span>\n",
              "</pre>\n"
            ],
            "text/plain": [
              "\u001b[2mProcessing email \u001b[0m\u001b[1;2;36m3\u001b[0m\u001b[2m/\u001b[0m\u001b[1;2;36m5\u001b[0m\u001b[2;33m...\u001b[0m\n"
            ]
          },
          "metadata": {},
          "output_type": "display_data"
        },
        {
          "data": {
            "text/html": [
              "<pre style=\"white-space:pre;overflow-x:auto;line-height:normal;font-family:Menlo,'DejaVu Sans Mono',consolas,'Courier New',monospace\"><span style=\"color: #7f7f7f; text-decoration-color: #7f7f7f\">Processing email </span><span style=\"color: #7fbfbf; text-decoration-color: #7fbfbf; font-weight: bold\">4</span><span style=\"color: #7f7f7f; text-decoration-color: #7f7f7f\">/</span><span style=\"color: #7fbfbf; text-decoration-color: #7fbfbf; font-weight: bold\">5</span><span style=\"color: #bfbf7f; text-decoration-color: #bfbf7f\">...</span>\n",
              "</pre>\n"
            ],
            "text/plain": [
              "\u001b[2mProcessing email \u001b[0m\u001b[1;2;36m4\u001b[0m\u001b[2m/\u001b[0m\u001b[1;2;36m5\u001b[0m\u001b[2;33m...\u001b[0m\n"
            ]
          },
          "metadata": {},
          "output_type": "display_data"
        },
        {
          "data": {
            "text/html": [
              "<pre style=\"white-space:pre;overflow-x:auto;line-height:normal;font-family:Menlo,'DejaVu Sans Mono',consolas,'Courier New',monospace\"><span style=\"color: #7f7f7f; text-decoration-color: #7f7f7f\">Processing email </span><span style=\"color: #7fbfbf; text-decoration-color: #7fbfbf; font-weight: bold\">5</span><span style=\"color: #7f7f7f; text-decoration-color: #7f7f7f\">/</span><span style=\"color: #7fbfbf; text-decoration-color: #7fbfbf; font-weight: bold\">5</span><span style=\"color: #bfbf7f; text-decoration-color: #bfbf7f\">...</span>\n",
              "</pre>\n"
            ],
            "text/plain": [
              "\u001b[2mProcessing email \u001b[0m\u001b[1;2;36m5\u001b[0m\u001b[2m/\u001b[0m\u001b[1;2;36m5\u001b[0m\u001b[2;33m...\u001b[0m\n"
            ]
          },
          "metadata": {},
          "output_type": "display_data"
        },
        {
          "data": {
            "text/html": [
              "<pre style=\"white-space:pre;overflow-x:auto;line-height:normal;font-family:Menlo,'DejaVu Sans Mono',consolas,'Courier New',monospace\"><span style=\"color: #008000; text-decoration-color: #008000\">✅ Completed analysis of </span><span style=\"color: #008000; text-decoration-color: #008000; font-weight: bold\">5</span><span style=\"color: #008000; text-decoration-color: #008000\"> emails</span>\n",
              "</pre>\n"
            ],
            "text/plain": [
              "\u001b[32m✅ Completed analysis of \u001b[0m\u001b[1;32m5\u001b[0m\u001b[32m emails\u001b[0m\n"
            ]
          },
          "metadata": {},
          "output_type": "display_data"
        },
        {
          "data": {
            "text/html": [
              "<pre style=\"white-space:pre;overflow-x:auto;line-height:normal;font-family:Menlo,'DejaVu Sans Mono',consolas,'Courier New',monospace\"><span style=\"color: #000080; text-decoration-color: #000080\">📈 Email Summary: </span><span style=\"color: #000080; text-decoration-color: #000080; font-weight: bold\">0</span><span style=\"color: #000080; text-decoration-color: #000080\"> High, </span><span style=\"color: #000080; text-decoration-color: #000080; font-weight: bold\">5</span><span style=\"color: #000080; text-decoration-color: #000080\"> Medium, </span><span style=\"color: #000080; text-decoration-color: #000080; font-weight: bold\">0</span><span style=\"color: #000080; text-decoration-color: #000080\"> Low priority</span>\n",
              "</pre>\n"
            ],
            "text/plain": [
              "\u001b[34m📈 Email Summary: \u001b[0m\u001b[1;34m0\u001b[0m\u001b[34m High, \u001b[0m\u001b[1;34m5\u001b[0m\u001b[34m Medium, \u001b[0m\u001b[1;34m0\u001b[0m\u001b[34m Low priority\u001b[0m\n"
            ]
          },
          "metadata": {},
          "output_type": "display_data"
        },
        {
          "data": {
            "text/html": [
              "<pre style=\"white-space:pre;overflow-x:auto;line-height:normal;font-family:Menlo,'DejaVu Sans Mono',consolas,'Courier New',monospace\"><span style=\"color: #00ff00; text-decoration-color: #00ff00\">───────────────────────────────────────── </span><span style=\"color: #008080; text-decoration-color: #008080; font-weight: bold\">🧪 Test Results: Email Analysis</span><span style=\"color: #00ff00; text-decoration-color: #00ff00\"> ─────────────────────────────────────────</span>\n",
              "</pre>\n"
            ],
            "text/plain": [
              "\u001b[92m───────────────────────────────────────── \u001b[0m\u001b[1;36m🧪 Test Results: Email Analysis\u001b[0m\u001b[92m ─────────────────────────────────────────\u001b[0m\n"
            ]
          },
          "metadata": {},
          "output_type": "display_data"
        },
        {
          "data": {
            "text/html": [
              "<pre style=\"white-space:pre;overflow-x:auto;line-height:normal;font-family:Menlo,'DejaVu Sans Mono',consolas,'Courier New',monospace\">┏━━━━━━━━━━━━━━━━━━━━━━━━━━━━━━━━━━━━━━━━━━━━━━━━━━━━━━━━━━━━━━━━━━━━━━━━━━━━━━━━━━━━━━━━━━━━━━━━━━━━━━━━━━━━━━━━━┓\n",
              "┃                                      <span style=\"font-weight: bold\">📧 Email Digest for Test: 03-Sep-2025</span>                                      ┃\n",
              "┗━━━━━━━━━━━━━━━━━━━━━━━━━━━━━━━━━━━━━━━━━━━━━━━━━━━━━━━━━━━━━━━━━━━━━━━━━━━━━━━━━━━━━━━━━━━━━━━━━━━━━━━━━━━━━━━━━┛\n",
              "\n",
              "\n",
              "                                           <span style=\"font-weight: bold; text-decoration: underline\">🟡 Medium Priority (5 emails)</span>                                           \n",
              "\n",
              "           <span style=\"font-weight: bold\">📨 From: deloittesh-jobnotification@noreply44.jobs2web.com  |  Subject: New jobs posted from</span>            \n",
              "                                           <span style=\"font-weight: bold\">southasiacareers.deloitte.com</span>                                           \n",
              "\n",
              "<span style=\"font-weight: bold\">Summary:</span> This email notifies you of new job postings at Deloitte, specifically in Bengaluru, India, and invites you\n",
              "to manage your Job Alerts.                                                                                         \n",
              "\n",
              "<span style=\"font-weight: bold\">Action Items:</span> Manage your Job Alerts                                                                               \n",
              "\n",
              "<span style=\"color: #808000; text-decoration-color: #808000\">───────────────────────────────────────────────────────────────────────────────────────────────────────────────────</span>\n",
              "             <span style=\"font-weight: bold\">📨 From: messages-noreply@linkedin.com  |  Subject: Meera Vanathi commented on your post.</span>             \n",
              "\n",
              "<span style=\"font-weight: bold\">Summary:</span> Meera Vanathi has commented on one of Rupin Ajay's posts with a positive comment, and the email is        \n",
              "notifying him about it.                                                                                            \n",
              "\n",
              "<span style=\"font-weight: bold\">Action Items:</span> View the conversation on LinkedIn                                                                    \n",
              "\n",
              "<span style=\"color: #808000; text-decoration-color: #808000\">───────────────────────────────────────────────────────────────────────────────────────────────────────────────────</span>\n",
              "             <span style=\"font-weight: bold\">📨 From: newsletter@opencv.org  |  Subject: OpenCV Newsletter: Updates and Opportunities</span>              \n",
              "\n",
              "<span style=\"font-weight: bold\">Summary:</span> The OpenCV newsletter provides updates on projects using OpenCV, opportunities to get involved with the   \n",
              "community, and resources for learning and contributing.                                                            \n",
              "\n",
              "<span style=\"font-weight: bold\">Action Items:</span> Shop Official OpenCV Merchandise, Join the OpenCV Community Slack Server, Follow OpenCV on various   \n",
              "social media platforms                                                                                             \n",
              "\n",
              "<span style=\"color: #808000; text-decoration-color: #808000\">───────────────────────────────────────────────────────────────────────────────────────────────────────────────────</span>\n",
              "                    <span style=\"font-weight: bold\">📨 From: no-reply@duolingo.com  |  Subject: You’re invited to Duocon 2025!</span>                     \n",
              "\n",
              "<span style=\"font-weight: bold\">Summary:</span> Duolingo is inviting users to attend a free virtual conference, Duocon 2025, on September 16th, featuring \n",
              "updates and announcements about new courses, features, and assessments.                                            \n",
              "\n",
              "<span style=\"font-weight: bold\">Action Items:</span> Register for the event by checking out the official website                                          \n",
              "\n",
              "<span style=\"color: #808000; text-decoration-color: #808000\">───────────────────────────────────────────────────────────────────────────────────────────────────────────────────</span>\n",
              "            <span style=\"font-weight: bold\">📨 From: team@datacamp.com  |  Subject: New Course: GDPR in Practice: Compliance and Fines</span>             \n",
              "\n",
              "<span style=\"font-weight: bold\">Summary:</span> DataCamp is announcing a new course on GDPR in Practice: Compliance and Fines, as part of their Data &amp; AI \n",
              "Literacy Month. The email also promotes other courses, webinars, and articles related to data science and AI.      \n",
              "\n",
              "<span style=\"font-weight: bold\">Action Items:</span> Learn about the new course, explore other resources, consider upskilling your organization           \n",
              "\n",
              "<span style=\"color: #808000; text-decoration-color: #808000\">───────────────────────────────────────────────────────────────────────────────────────────────────────────────────</span>\n",
              "</pre>\n"
            ],
            "text/plain": [
              "┏━━━━━━━━━━━━━━━━━━━━━━━━━━━━━━━━━━━━━━━━━━━━━━━━━━━━━━━━━━━━━━━━━━━━━━━━━━━━━━━━━━━━━━━━━━━━━━━━━━━━━━━━━━━━━━━━━┓\n",
              "┃                                      \u001b[1m📧 Email Digest for Test: 03-Sep-2025\u001b[0m                                      ┃\n",
              "┗━━━━━━━━━━━━━━━━━━━━━━━━━━━━━━━━━━━━━━━━━━━━━━━━━━━━━━━━━━━━━━━━━━━━━━━━━━━━━━━━━━━━━━━━━━━━━━━━━━━━━━━━━━━━━━━━━┛\n",
              "\n",
              "\n",
              "                                           \u001b[1;4m🟡 Medium Priority (5 emails)\u001b[0m                                           \n",
              "\n",
              "           \u001b[1m📨 From: deloittesh-jobnotification@noreply44.jobs2web.com  |  Subject: New jobs posted from\u001b[0m            \n",
              "                                           \u001b[1msouthasiacareers.deloitte.com\u001b[0m                                           \n",
              "\n",
              "\u001b[1mSummary:\u001b[0m This email notifies you of new job postings at Deloitte, specifically in Bengaluru, India, and invites you\n",
              "to manage your Job Alerts.                                                                                         \n",
              "\n",
              "\u001b[1mAction Items:\u001b[0m Manage your Job Alerts                                                                               \n",
              "\n",
              "\u001b[33m───────────────────────────────────────────────────────────────────────────────────────────────────────────────────\u001b[0m\n",
              "             \u001b[1m📨 From: messages-noreply@linkedin.com  |  Subject: Meera Vanathi commented on your post.\u001b[0m             \n",
              "\n",
              "\u001b[1mSummary:\u001b[0m Meera Vanathi has commented on one of Rupin Ajay's posts with a positive comment, and the email is        \n",
              "notifying him about it.                                                                                            \n",
              "\n",
              "\u001b[1mAction Items:\u001b[0m View the conversation on LinkedIn                                                                    \n",
              "\n",
              "\u001b[33m───────────────────────────────────────────────────────────────────────────────────────────────────────────────────\u001b[0m\n",
              "             \u001b[1m📨 From: newsletter@opencv.org  |  Subject: OpenCV Newsletter: Updates and Opportunities\u001b[0m              \n",
              "\n",
              "\u001b[1mSummary:\u001b[0m The OpenCV newsletter provides updates on projects using OpenCV, opportunities to get involved with the   \n",
              "community, and resources for learning and contributing.                                                            \n",
              "\n",
              "\u001b[1mAction Items:\u001b[0m Shop Official OpenCV Merchandise, Join the OpenCV Community Slack Server, Follow OpenCV on various   \n",
              "social media platforms                                                                                             \n",
              "\n",
              "\u001b[33m───────────────────────────────────────────────────────────────────────────────────────────────────────────────────\u001b[0m\n",
              "                    \u001b[1m📨 From: no-reply@duolingo.com  |  Subject: You’re invited to Duocon 2025!\u001b[0m                     \n",
              "\n",
              "\u001b[1mSummary:\u001b[0m Duolingo is inviting users to attend a free virtual conference, Duocon 2025, on September 16th, featuring \n",
              "updates and announcements about new courses, features, and assessments.                                            \n",
              "\n",
              "\u001b[1mAction Items:\u001b[0m Register for the event by checking out the official website                                          \n",
              "\n",
              "\u001b[33m───────────────────────────────────────────────────────────────────────────────────────────────────────────────────\u001b[0m\n",
              "            \u001b[1m📨 From: team@datacamp.com  |  Subject: New Course: GDPR in Practice: Compliance and Fines\u001b[0m             \n",
              "\n",
              "\u001b[1mSummary:\u001b[0m DataCamp is announcing a new course on GDPR in Practice: Compliance and Fines, as part of their Data & AI \n",
              "Literacy Month. The email also promotes other courses, webinars, and articles related to data science and AI.      \n",
              "\n",
              "\u001b[1mAction Items:\u001b[0m Learn about the new course, explore other resources, consider upskilling your organization           \n",
              "\n",
              "\u001b[33m───────────────────────────────────────────────────────────────────────────────────────────────────────────────────\u001b[0m\n"
            ]
          },
          "metadata": {},
          "output_type": "display_data"
        },
        {
          "data": {
            "text/html": [
              "<pre style=\"white-space:pre;overflow-x:auto;line-height:normal;font-family:Menlo,'DejaVu Sans Mono',consolas,'Courier New',monospace\">\n",
              "<span style=\"color: #008080; text-decoration-color: #008080\">📊 Test DataFrame shape: </span><span style=\"color: #008080; text-decoration-color: #008080; font-weight: bold\">(</span><span style=\"color: #008080; text-decoration-color: #008080; font-weight: bold\">5</span><span style=\"color: #008080; text-decoration-color: #008080\">, </span><span style=\"color: #008080; text-decoration-color: #008080; font-weight: bold\">6</span><span style=\"color: #008080; text-decoration-color: #008080; font-weight: bold\">)</span>\n",
              "</pre>\n"
            ],
            "text/plain": [
              "\n",
              "\u001b[36m📊 Test DataFrame shape: \u001b[0m\u001b[1;36m(\u001b[0m\u001b[1;36m5\u001b[0m\u001b[36m, \u001b[0m\u001b[1;36m6\u001b[0m\u001b[1;36m)\u001b[0m\n"
            ]
          },
          "metadata": {},
          "output_type": "display_data"
        }
      ],
      "source": [
        "# 🧪 Advanced Testing: Custom Date Range Analysis\n",
        "\n",
        "console.rule(\"[bold cyan]🧪 Advanced Testing: Custom Date Range[/bold cyan]\")\n",
        "\n",
        "def test_custom_date_range(days_back: int = 3, limit: int = 5):\n",
        "    \"\"\"\n",
        "    Test the email triage system with a custom date range.\n",
        "    \n",
        "    Args:\n",
        "        days_back: Number of days to look back\n",
        "        limit: Maximum emails to process\n",
        "    \"\"\"\n",
        "    try:\n",
        "        test_date = (datetime.now() - timedelta(days=days_back)).strftime('%d-%b-%Y')\n",
        "        console.print(f\"[blue]🔍 Testing with emails from {test_date} (limit: {limit})[/blue]\")\n",
        "        \n",
        "        # Create secure SSL context\n",
        "        context = ssl.create_default_context(cafile=certifi.where())\n",
        "        \n",
        "        with IMAPClient(\"imap.gmail.com\", ssl=True, ssl_context=context) as imap_client:\n",
        "            if EMAIL and APP_PASSWORD:\n",
        "                # Connect and authenticate\n",
        "                imap_client.login(EMAIL, APP_PASSWORD)\n",
        "                imap_client.select_folder(\"INBOX\")\n",
        "                \n",
        "                # Search for emails from test date\n",
        "                messages = imap_client.search([\"ON\", test_date])[:limit]\n",
        "                response = imap_client.fetch(messages, [\"ENVELOPE\", \"RFC822\"])\n",
        "                \n",
        "                # Process emails\n",
        "                emails_test = []\n",
        "                for msgid, data in response.items():\n",
        "                    envelope = data[b\"ENVELOPE\"]\n",
        "                    subject_raw = envelope.subject.decode(errors=\"ignore\") if envelope.subject else \"(No Subject)\"\n",
        "                    subject = decode_subject_value(subject_raw)\n",
        "                    \n",
        "                    if envelope.from_ and len(envelope.from_) > 0:\n",
        "                        from_addr = envelope.from_[0]\n",
        "                        from_ = f\"{from_addr.mailbox.decode()}@{from_addr.host.decode()}\"\n",
        "                    else:\n",
        "                        from_ = \"unknown@unknown.com\"\n",
        "                    \n",
        "                    raw_bytes = data[b\"RFC822\"]\n",
        "                    clean_body = extract_plain_text_from_email(raw_bytes)\n",
        "                    emails_test.append({\"subject\": subject, \"from\": from_, \"body\": clean_body})\n",
        "                \n",
        "                console.print(f\"[green]✅ Fetched {len(emails_test)} emails from {test_date}[/green]\")\n",
        "                \n",
        "                if emails_test:\n",
        "                    # Analyze with LLM\n",
        "                    summarizer_test = SummarizerAgent(gravix_client)\n",
        "                    summaries_test = summarizer_test.summarize_and_prioritize(emails_test)\n",
        "                    \n",
        "                    # Generate report\n",
        "                    reporter_test = ReporterAgent(date_label=f\"Test: {test_date}\")\n",
        "                    df_test, md_test = reporter_test.run(summaries_test)\n",
        "                    \n",
        "                    # Display results\n",
        "                    console.rule(\"[bold cyan]🧪 Test Results: Email Analysis[/bold cyan]\")\n",
        "                    console.print(Markdown(md_test))\n",
        "                    \n",
        "                    return df_test\n",
        "                else:\n",
        "                    console.print(f\"[yellow]No emails found for {test_date}[/yellow]\")\n",
        "                    return pd.DataFrame()\n",
        "            else:\n",
        "                console.print(\"[bold yellow]⚠️  Skipping test: credentials not set[/bold yellow]\")\n",
        "                return pd.DataFrame()\n",
        "                \n",
        "    except Exception as e:\n",
        "        console.print(f\"[bold red]❌ Test error:[/bold red] {e}\")\n",
        "        return pd.DataFrame()\n",
        "\n",
        "# Run the test\n",
        "test_df = test_custom_date_range(days_back=3, limit=5)\n",
        "\n",
        "# Display test results\n",
        "if not test_df.empty:\n",
        "    console.print(f\"\\n[cyan]📊 Test DataFrame shape: {test_df.shape}[/cyan]\")\n",
        "    test_df.head()\n",
        "else:\n",
        "    console.print(\"[yellow]No test data to display[/yellow]\")"
      ]
    },
    {
      "cell_type": "markdown",
      "id": "fa770547",
      "metadata": {},
      "source": [
        "## Conclusion\n",
        "\n",
        "### What We've Accomplished\n",
        "\n",
        "In this comprehensive recipe, we've built a complete email triage ecosystem:\n",
        "\n",
        "1. **Secure Email Processing** - Secure IMAP integration with SSL/TLS encryption\n",
        "2. **Intelligent Agent Architecture** - Three specialized agents working in orchestration\n",
        "3. **AI-Powered Analysis** - Real-world email understanding with Gravix Layer LLM\n",
        "4. **Multi-Format Reporting** - Structured outputs for both humans and systems\n",
        "\n",
        "### The Power of Agentic Email Processing\n",
        "\n",
        "This agentic approach represents a fundamental shift in email management:\n",
        "\n",
        "- **Automation**: Eliminates manual email sorting and prioritization\n",
        "- **Intelligence**: Context-aware analysis that understands email content\n",
        "- **Scalability**: Handles high-volume processing with configurable limits\n",
        "- **Flexibility**: Customizable priority criteria and output formats\n",
        "- **Integration**: Multiple export options for existing business systems\n",
        "\n",
        "### Next Steps\n",
        "\n",
        "To continue your email automation journey:\n",
        "\n",
        "1. **Customize Priority Logic** - Adjust classification criteria for your specific needs\n",
        "2. **Scale Your Deployment** - Add database integration and multi-account support\n",
        "3. **Enhance Features** - Implement calendar integration and advanced analytics\n",
        "4. **Deploy in Production** - Add monitoring, logging, and enterprise security\n",
        "\n",
        "### Key Takeaways\n",
        "\n",
        "- **Agentic architecture simplifies complex workflows** - Each agent has a focused responsibility\n",
        "- **LLM integration enables intelligent automation** - AI that truly understands email content\n",
        "- **Multiple output formats ensure flexibility** - Works with any downstream system\n"
      ]
    },
    {
      "cell_type": "markdown",
      "id": "e8c355f3",
      "metadata": {},
      "source": []
    }
  ],
  "metadata": {
    "kernelspec": {
      "display_name": ".venv",
      "language": "python",
      "name": "python3"
    },
    "language_info": {
      "codemirror_mode": {
        "name": "ipython",
        "version": 3
      },
      "file_extension": ".py",
      "mimetype": "text/x-python",
      "name": "python",
      "nbconvert_exporter": "python",
      "pygments_lexer": "ipython3",
      "version": "3.13.3"
    }
  },
  "nbformat": 4,
  "nbformat_minor": 5
}
